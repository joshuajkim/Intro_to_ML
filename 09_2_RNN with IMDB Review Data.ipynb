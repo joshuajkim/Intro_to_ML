{
 "cells": [
  {
   "cell_type": "code",
   "execution_count": 1,
   "metadata": {},
   "outputs": [
    {
     "name": "stderr",
     "output_type": "stream",
     "text": [
      "<__array_function__ internals>:5: VisibleDeprecationWarning: Creating an ndarray from ragged nested sequences (which is a list-or-tuple of lists-or-tuples-or ndarrays with different lengths or shapes) is deprecated. If you meant to do this, you must specify 'dtype=object' when creating the ndarray\n",
      "C:\\Users\\Joshua Jinseok Kim\\AppData\\Roaming\\Python\\Python38\\site-packages\\tensorflow\\python\\keras\\datasets\\imdb.py:159: VisibleDeprecationWarning: Creating an ndarray from ragged nested sequences (which is a list-or-tuple of lists-or-tuples-or ndarrays with different lengths or shapes) is deprecated. If you meant to do this, you must specify 'dtype=object' when creating the ndarray\n",
      "  x_train, y_train = np.array(xs[:idx]), np.array(labels[:idx])\n"
     ]
    },
    {
     "name": "stdout",
     "output_type": "stream",
     "text": [
      "(25000,) (25000,)\n",
      "(25000,) (25000,)\n"
     ]
    },
    {
     "name": "stderr",
     "output_type": "stream",
     "text": [
      "C:\\Users\\Joshua Jinseok Kim\\AppData\\Roaming\\Python\\Python38\\site-packages\\tensorflow\\python\\keras\\datasets\\imdb.py:160: VisibleDeprecationWarning: Creating an ndarray from ragged nested sequences (which is a list-or-tuple of lists-or-tuples-or ndarrays with different lengths or shapes) is deprecated. If you meant to do this, you must specify 'dtype=object' when creating the ndarray\n",
      "  x_test, y_test = np.array(xs[idx:]), np.array(labels[idx:])\n"
     ]
    }
   ],
   "source": [
    "from tensorflow.keras.datasets import imdb\n",
    "\n",
    "(train_input, train_target), (test_input, test_target) = \\\n",
    "    imdb.load_data(num_words=500)\n",
    "\n",
    "print(train_input.shape, train_target.shape)\n",
    "print(test_input.shape, test_target.shape)"
   ]
  },
  {
   "cell_type": "code",
   "execution_count": 2,
   "metadata": {},
   "outputs": [
    {
     "name": "stdout",
     "output_type": "stream",
     "text": [
      "Number of Tokens in 0th Sample: 218\n",
      "Number of Tokens in 1st Sample: 189\n",
      "Number of Tokens in 2nd Sample: 141\n",
      "...\n"
     ]
    }
   ],
   "source": [
    "print('Number of Tokens in 0th Sample:', len(train_input[0]))\n",
    "print('Number of Tokens in 1st Sample:', len(train_input[1]))\n",
    "print('Number of Tokens in 2nd Sample:', len(train_input[2]))\n",
    "print('...')"
   ]
  },
  {
   "cell_type": "code",
   "execution_count": 3,
   "metadata": {},
   "outputs": [
    {
     "name": "stdout",
     "output_type": "stream",
     "text": [
      "All the Tokens in 0th Sample:\n",
      "[1, 14, 22, 16, 43, 2, 2, 2, 2, 65, 458, 2, 66, 2, 4, 173, 36, 256, 5, 25, 100, 43, 2, 112, 50, 2, 2, 9, 35, 480, 284, 5, 150, 4, 172, 112, 167, 2, 336, 385, 39, 4, 172, 2, 2, 17, 2, 38, 13, 447, 4, 192, 50, 16, 6, 147, 2, 19, 14, 22, 4, 2, 2, 469, 4, 22, 71, 87, 12, 16, 43, 2, 38, 76, 15, 13, 2, 4, 22, 17, 2, 17, 12, 16, 2, 18, 2, 5, 62, 386, 12, 8, 316, 8, 106, 5, 4, 2, 2, 16, 480, 66, 2, 33, 4, 130, 12, 16, 38, 2, 5, 25, 124, 51, 36, 135, 48, 25, 2, 33, 6, 22, 12, 215, 28, 77, 52, 5, 14, 407, 16, 82, 2, 8, 4, 107, 117, 2, 15, 256, 4, 2, 7, 2, 5, 2, 36, 71, 43, 2, 476, 26, 400, 317, 46, 7, 4, 2, 2, 13, 104, 88, 4, 381, 15, 297, 98, 32, 2, 56, 26, 141, 6, 194, 2, 18, 4, 226, 22, 21, 134, 476, 26, 480, 5, 144, 30, 2, 18, 51, 36, 28, 224, 92, 25, 104, 4, 226, 65, 16, 38, 2, 88, 12, 16, 283, 5, 16, 2, 113, 103, 32, 15, 16, 2, 19, 178, 32]\n"
     ]
    }
   ],
   "source": [
    "print('All the Tokens in 0th Sample:')\n",
    "print(train_input[0])"
   ]
  },
  {
   "cell_type": "code",
   "execution_count": 4,
   "metadata": {},
   "outputs": [
    {
     "name": "stdout",
     "output_type": "stream",
     "text": [
      "Target Value of the First 20 Samples:\n",
      "[1 0 0 1 0 0 1 0 1 0 1 0 0 0 0 0 1 1 0 1]\n"
     ]
    }
   ],
   "source": [
    "print('Target Value of the First 20 Samples:')\n",
    "print(train_target[:20])"
   ]
  },
  {
   "cell_type": "code",
   "execution_count": 5,
   "metadata": {},
   "outputs": [
    {
     "name": "stdout",
     "output_type": "stream",
     "text": [
      "(20000,) (20000,)\n",
      "(5000,) (5000,)\n",
      "(25000,) (25000,)\n"
     ]
    }
   ],
   "source": [
    "from sklearn.model_selection import train_test_split\n",
    "\n",
    "train_input, val_input, train_target, val_target = \\\n",
    "    train_test_split(train_input, train_target, test_size=0.2, random_state=1234)\n",
    "\n",
    "print(train_input.shape, train_target.shape)\n",
    "print(val_input.shape, val_target.shape)\n",
    "print(test_input.shape, test_target.shape)"
   ]
  },
  {
   "cell_type": "code",
   "execution_count": 6,
   "metadata": {},
   "outputs": [
    {
     "name": "stdout",
     "output_type": "stream",
     "text": [
      "Mean Length: 238.42155\n",
      "Median Length: 178.0\n"
     ]
    }
   ],
   "source": [
    "import numpy as np\n",
    "import pandas as pd\n",
    "\n",
    "length_list = [len(sample) for sample in train_input]\n",
    "\n",
    "print('Mean Length:', np.mean(length_list))\n",
    "print('Median Length:', np.median(length_list))"
   ]
  },
  {
   "cell_type": "code",
   "execution_count": 7,
   "metadata": {},
   "outputs": [
    {
     "data": {
      "image/png": "[encoded data removed]",
      "text/plain": [
       "<Figure size 432x288 with 1 Axes>"
      ]
     },
     "metadata": {
      "needs_background": "light"
     },
     "output_type": "display_data"
    },
    {
     "data": {
      "text/plain": [
       "''"
      ]
     },
     "execution_count": 7,
     "metadata": {},
     "output_type": "execute_result"
    }
   ],
   "source": [
    "import matplotlib.pyplot as plt\n",
    "\n",
    "plt.hist(length_list)\n",
    "\n",
    "plt.xlabel('length')\n",
    "plt.ylabel('frequency')\n",
    "\n",
    "plt.show()\n",
    ";"
   ]
  },
  {
   "cell_type": "code",
   "execution_count": 8,
   "metadata": {},
   "outputs": [
    {
     "name": "stdout",
     "output_type": "stream",
     "text": [
      "(20000, 100)\n",
      "(5000, 100)\n"
     ]
    }
   ],
   "source": [
    "from tensorflow.keras.preprocessing.sequence import pad_sequences\n",
    "\n",
    "train_seq = pad_sequences(train_input, maxlen=100)\n",
    "val_seq = pad_sequences(val_input, maxlen=100)\n",
    "\n",
    "print(train_seq.shape)\n",
    "print(val_seq.shape)"
   ]
  },
  {
   "cell_type": "code",
   "execution_count": 9,
   "metadata": {},
   "outputs": [
    {
     "name": "stdout",
     "output_type": "stream",
     "text": [
      "Model: \"sequential\"\n",
      "_________________________________________________________________\n",
      "Layer (type)                 Output Shape              Param #   \n",
      "=================================================================\n",
      "simple_rnn (SimpleRNN)       (None, 8)                 4072      \n",
      "_________________________________________________________________\n",
      "dense (Dense)                (None, 1)                 9         \n",
      "=================================================================\n",
      "Total params: 4,081\n",
      "Trainable params: 4,081\n",
      "Non-trainable params: 0\n",
      "_________________________________________________________________\n"
     ]
    }
   ],
   "source": [
    "from tensorflow.keras import Sequential\n",
    "from tensorflow.keras.layers import SimpleRNN, Dense\n",
    "\n",
    "model = Sequential()\n",
    "model.add(SimpleRNN(8, input_shape=(100, 500)))\n",
    "model.add(Dense(1, activation='sigmoid'))\n",
    "\n",
    "model.summary()"
   ]
  },
  {
   "cell_type": "code",
   "execution_count": 10,
   "metadata": {},
   "outputs": [
    {
     "name": "stdout",
     "output_type": "stream",
     "text": [
      "(20000, 100, 500)\n",
      "(5000, 100, 500)\n"
     ]
    }
   ],
   "source": [
    "from tensorflow.keras.utils import to_categorical\n",
    "\n",
    "train_oh = to_categorical(train_seq)\n",
    "val_oh = to_categorical(val_seq)\n",
    "\n",
    "print(train_oh.shape)\n",
    "print(val_oh.shape)"
   ]
  },
  {
   "cell_type": "code",
   "execution_count": 11,
   "metadata": {
    "scrolled": false
   },
   "outputs": [
    {
     "name": "stdout",
     "output_type": "stream",
     "text": [
      "Epoch 1/50\n",
      "313/313 [==============================] - 23s 53ms/step - loss: 0.7023 - accuracy: 0.5054 - val_loss: 0.7024 - val_accuracy: 0.4942\n",
      "Epoch 2/50\n",
      "313/313 [==============================] - 12s 37ms/step - loss: 0.6960 - accuracy: 0.5103 - val_loss: 0.6995 - val_accuracy: 0.4954\n",
      "Epoch 3/50\n",
      "313/313 [==============================] - 13s 40ms/step - loss: 0.6935 - accuracy: 0.5225 - val_loss: 0.6975 - val_accuracy: 0.4982\n",
      "Epoch 4/50\n",
      "313/313 [==============================] - 12s 38ms/step - loss: 0.6903 - accuracy: 0.5336 - val_loss: 0.6959 - val_accuracy: 0.5022\n",
      "Epoch 5/50\n",
      "313/313 [==============================] - 14s 46ms/step - loss: 0.6904 - accuracy: 0.5242 - val_loss: 0.6945 - val_accuracy: 0.5048\n",
      "Epoch 6/50\n",
      "313/313 [==============================] - 12s 37ms/step - loss: 0.6864 - accuracy: 0.5409 - val_loss: 0.6932 - val_accuracy: 0.5054\n",
      "Epoch 7/50\n",
      "313/313 [==============================] - 11s 36ms/step - loss: 0.6848 - accuracy: 0.5444 - val_loss: 0.6918 - val_accuracy: 0.5120\n",
      "Epoch 8/50\n",
      "313/313 [==============================] - 11s 36ms/step - loss: 0.6830 - accuracy: 0.5536 - val_loss: 0.6903 - val_accuracy: 0.5188\n",
      "Epoch 9/50\n",
      "313/313 [==============================] - 10s 31ms/step - loss: 0.6798 - accuracy: 0.5643 - val_loss: 0.6885 - val_accuracy: 0.5246\n",
      "Epoch 10/50\n",
      "313/313 [==============================] - 9s 29ms/step - loss: 0.6768 - accuracy: 0.5784 - val_loss: 0.6858 - val_accuracy: 0.5390\n",
      "Epoch 11/50\n",
      "313/313 [==============================] - 9s 28ms/step - loss: 0.6743 - accuracy: 0.5815 - val_loss: 0.6790 - val_accuracy: 0.5618\n",
      "Epoch 12/50\n",
      "313/313 [==============================] - 9s 28ms/step - loss: 0.6608 - accuracy: 0.6224 - val_loss: 0.6476 - val_accuracy: 0.6560\n",
      "Epoch 13/50\n",
      "313/313 [==============================] - 9s 29ms/step - loss: 0.6346 - accuracy: 0.6719 - val_loss: 0.6366 - val_accuracy: 0.6720\n",
      "Epoch 14/50\n",
      "313/313 [==============================] - 9s 28ms/step - loss: 0.6229 - accuracy: 0.6868 - val_loss: 0.6222 - val_accuracy: 0.6972\n",
      "Epoch 15/50\n",
      "313/313 [==============================] - 9s 28ms/step - loss: 0.6095 - accuracy: 0.7055 - val_loss: 0.6142 - val_accuracy: 0.6968\n",
      "Epoch 16/50\n",
      "313/313 [==============================] - 9s 28ms/step - loss: 0.5955 - accuracy: 0.7246 - val_loss: 0.5971 - val_accuracy: 0.7212\n",
      "Epoch 17/50\n",
      "313/313 [==============================] - 9s 28ms/step - loss: 0.5855 - accuracy: 0.7288 - val_loss: 0.5858 - val_accuracy: 0.7286\n",
      "Epoch 18/50\n",
      "313/313 [==============================] - 9s 28ms/step - loss: 0.5725 - accuracy: 0.7369 - val_loss: 0.5755 - val_accuracy: 0.7328\n",
      "Epoch 19/50\n",
      "313/313 [==============================] - 9s 28ms/step - loss: 0.5593 - accuracy: 0.7446 - val_loss: 0.5684 - val_accuracy: 0.7354\n",
      "Epoch 20/50\n",
      "313/313 [==============================] - 9s 28ms/step - loss: 0.5525 - accuracy: 0.7440 - val_loss: 0.5521 - val_accuracy: 0.7476\n",
      "Epoch 21/50\n",
      "313/313 [==============================] - 9s 28ms/step - loss: 0.5394 - accuracy: 0.7547 - val_loss: 0.5437 - val_accuracy: 0.7496\n",
      "Epoch 22/50\n",
      "313/313 [==============================] - 9s 28ms/step - loss: 0.5277 - accuracy: 0.7625 - val_loss: 0.5371 - val_accuracy: 0.7544\n",
      "Epoch 23/50\n",
      "313/313 [==============================] - 9s 28ms/step - loss: 0.5211 - accuracy: 0.7645 - val_loss: 0.5274 - val_accuracy: 0.7548\n",
      "Epoch 24/50\n",
      "313/313 [==============================] - 9s 28ms/step - loss: 0.5104 - accuracy: 0.7678 - val_loss: 0.5198 - val_accuracy: 0.7574\n",
      "Epoch 25/50\n",
      "313/313 [==============================] - 9s 29ms/step - loss: 0.4966 - accuracy: 0.7764 - val_loss: 0.5132 - val_accuracy: 0.7604\n",
      "Epoch 26/50\n",
      "313/313 [==============================] - 9s 29ms/step - loss: 0.4866 - accuracy: 0.7839 - val_loss: 0.5060 - val_accuracy: 0.7662\n",
      "Epoch 27/50\n",
      "313/313 [==============================] - 9s 28ms/step - loss: 0.4817 - accuracy: 0.7858 - val_loss: 0.4980 - val_accuracy: 0.7696\n",
      "Epoch 28/50\n",
      "313/313 [==============================] - 9s 28ms/step - loss: 0.4754 - accuracy: 0.7861 - val_loss: 0.5032 - val_accuracy: 0.7658\n",
      "Epoch 29/50\n",
      "313/313 [==============================] - 9s 29ms/step - loss: 0.4730 - accuracy: 0.7870 - val_loss: 0.4938 - val_accuracy: 0.7680\n",
      "Epoch 30/50\n",
      "313/313 [==============================] - 9s 28ms/step - loss: 0.4639 - accuracy: 0.7934 - val_loss: 0.4865 - val_accuracy: 0.7760\n",
      "Epoch 31/50\n",
      "313/313 [==============================] - 9s 28ms/step - loss: 0.4581 - accuracy: 0.7967 - val_loss: 0.4790 - val_accuracy: 0.7800\n",
      "Epoch 32/50\n",
      "313/313 [==============================] - 9s 28ms/step - loss: 0.4480 - accuracy: 0.8021 - val_loss: 0.4748 - val_accuracy: 0.7824\n",
      "Epoch 33/50\n",
      "313/313 [==============================] - 9s 28ms/step - loss: 0.4495 - accuracy: 0.8021 - val_loss: 0.4720 - val_accuracy: 0.7832\n",
      "Epoch 34/50\n",
      "313/313 [==============================] - 9s 28ms/step - loss: 0.4464 - accuracy: 0.8019 - val_loss: 0.4710 - val_accuracy: 0.7838\n",
      "Epoch 35/50\n",
      "313/313 [==============================] - 9s 28ms/step - loss: 0.4408 - accuracy: 0.8076 - val_loss: 0.4664 - val_accuracy: 0.7850\n",
      "Epoch 36/50\n",
      "313/313 [==============================] - 9s 28ms/step - loss: 0.4389 - accuracy: 0.8050 - val_loss: 0.4646 - val_accuracy: 0.7846\n",
      "Epoch 37/50\n",
      "313/313 [==============================] - 9s 27ms/step - loss: 0.4334 - accuracy: 0.8084 - val_loss: 0.4633 - val_accuracy: 0.7868\n",
      "Epoch 38/50\n",
      "313/313 [==============================] - 9s 27ms/step - loss: 0.4356 - accuracy: 0.8063 - val_loss: 0.4617 - val_accuracy: 0.7866\n",
      "Epoch 39/50\n",
      "313/313 [==============================] - 9s 28ms/step - loss: 0.4324 - accuracy: 0.8082 - val_loss: 0.4609 - val_accuracy: 0.7848\n",
      "Epoch 40/50\n",
      "313/313 [==============================] - 9s 28ms/step - loss: 0.4281 - accuracy: 0.8133 - val_loss: 0.4570 - val_accuracy: 0.7862\n",
      "Epoch 41/50\n",
      "313/313 [==============================] - 9s 29ms/step - loss: 0.4224 - accuracy: 0.8140 - val_loss: 0.4571 - val_accuracy: 0.7864\n",
      "Epoch 42/50\n",
      "313/313 [==============================] - 9s 28ms/step - loss: 0.4201 - accuracy: 0.8163 - val_loss: 0.4539 - val_accuracy: 0.7882\n",
      "Epoch 43/50\n",
      "313/313 [==============================] - 9s 29ms/step - loss: 0.4182 - accuracy: 0.8201 - val_loss: 0.4593 - val_accuracy: 0.7868\n",
      "Epoch 44/50\n",
      "313/313 [==============================] - 10s 32ms/step - loss: 0.4196 - accuracy: 0.8155 - val_loss: 0.4517 - val_accuracy: 0.7880\n",
      "Epoch 45/50\n",
      "313/313 [==============================] - 9s 29ms/step - loss: 0.4185 - accuracy: 0.8180 - val_loss: 0.4519 - val_accuracy: 0.7876\n",
      "Epoch 46/50\n",
      "313/313 [==============================] - 9s 28ms/step - loss: 0.4142 - accuracy: 0.8208 - val_loss: 0.4490 - val_accuracy: 0.7884\n",
      "Epoch 47/50\n",
      "313/313 [==============================] - 9s 28ms/step - loss: 0.4130 - accuracy: 0.8172 - val_loss: 0.4535 - val_accuracy: 0.7930\n",
      "Epoch 48/50\n",
      "313/313 [==============================] - 9s 28ms/step - loss: 0.4087 - accuracy: 0.8214 - val_loss: 0.4477 - val_accuracy: 0.7884\n",
      "Epoch 49/50\n",
      "313/313 [==============================] - 9s 28ms/step - loss: 0.4073 - accuracy: 0.8245 - val_loss: 0.4469 - val_accuracy: 0.7884\n",
      "Epoch 50/50\n",
      "313/313 [==============================] - 9s 28ms/step - loss: 0.4154 - accuracy: 0.8183 - val_loss: 0.4485 - val_accuracy: 0.7886\n"
     ]
    }
   ],
   "source": [
    "from tensorflow.keras.optimizers import RMSprop\n",
    "from tensorflow.keras.callbacks import ModelCheckpoint, EarlyStopping\n",
    "\n",
    "rmsprop = RMSprop(lr=1e-4)\n",
    "\n",
    "model.compile(\n",
    "    optimizer=rmsprop,\n",
    "    loss='binary_crossentropy',\n",
    "    metrics=['accuracy']\n",
    ")\n",
    "\n",
    "checkpoint_cb = ModelCheckpoint('data/best-model.h5')\n",
    "earlystopping_cb = EarlyStopping(patience=3, restore_best_weights=True)\n",
    "\n",
    "history = model.fit(\n",
    "    train_oh,\n",
    "    train_target,\n",
    "    epochs=50,\n",
    "    batch_size=64,\n",
    "    validation_data=(val_oh, val_target),\n",
    "    callbacks=[checkpoint_cb, earlystopping_cb]\n",
    ")"
   ]
  },
  {
   "cell_type": "code",
   "execution_count": 12,
   "metadata": {},
   "outputs": [
    {
     "data": {
      "image/png": "[encoded data removed]",
      "text/plain": [
       "<Figure size 432x288 with 1 Axes>"
      ]
     },
     "metadata": {
      "needs_background": "light"
     },
     "output_type": "display_data"
    },
    {
     "data": {
      "text/plain": [
       "''"
      ]
     },
     "execution_count": 12,
     "metadata": {},
     "output_type": "execute_result"
    }
   ],
   "source": [
    "train_loss = history.history['loss']\n",
    "val_loss = history.history['val_loss']\n",
    "epoch_list = range(len(train_loss))\n",
    "\n",
    "plt.plot(epoch_list, train_loss, 'b', label='Train')\n",
    "plt.plot(epoch_list, val_loss, 'r', label='Validate')\n",
    "\n",
    "plt.xlabel('epoch')\n",
    "plt.ylabel('loss')\n",
    "plt.legend()\n",
    "\n",
    "plt.show()\n",
    ";"
   ]
  },
  {
   "cell_type": "code",
   "execution_count": 13,
   "metadata": {},
   "outputs": [
    {
     "name": "stdout",
     "output_type": "stream",
     "text": [
      "8000000 4000000000\n"
     ]
    }
   ],
   "source": [
    "print(train_seq.nbytes, train_oh.nbytes)"
   ]
  },
  {
   "cell_type": "code",
   "execution_count": 14,
   "metadata": {},
   "outputs": [
    {
     "name": "stdout",
     "output_type": "stream",
     "text": [
      "Model: \"sequential_1\"\n",
      "_________________________________________________________________\n",
      "Layer (type)                 Output Shape              Param #   \n",
      "=================================================================\n",
      "embedding (Embedding)        (None, 100, 16)           8000      \n",
      "_________________________________________________________________\n",
      "simple_rnn_1 (SimpleRNN)     (None, 8)                 200       \n",
      "_________________________________________________________________\n",
      "dense_1 (Dense)              (None, 1)                 9         \n",
      "=================================================================\n",
      "Total params: 8,209\n",
      "Trainable params: 8,209\n",
      "Non-trainable params: 0\n",
      "_________________________________________________________________\n"
     ]
    }
   ],
   "source": [
    "from tensorflow.keras.layers import Embedding\n",
    "\n",
    "model = Sequential()\n",
    "model.add(Embedding(500, 16, input_length=100))\n",
    "model.add(SimpleRNN(8))\n",
    "model.add(Dense(1, activation='sigmoid'))\n",
    "\n",
    "model.summary()"
   ]
  },
  {
   "cell_type": "code",
   "execution_count": 15,
   "metadata": {},
   "outputs": [],
   "source": [
    "rmsprop = RMSprop(lr=1e-4)\n",
    "\n",
    "model.compile(\n",
    "    optimizer=rmsprop,\n",
    "    loss='binary_crossentropy',\n",
    "    metrics=['accuracy']\n",
    ")\n",
    "\n",
    "checkpoint_cb = ModelCheckpoint('data/best-embedding-model.h5')\n",
    "earlystopping_cb = EarlyStopping(patience=3, restore_best_weights=True)"
   ]
  },
  {
   "cell_type": "code",
   "execution_count": 16,
   "metadata": {},
   "outputs": [
    {
     "name": "stdout",
     "output_type": "stream",
     "text": [
      "Epoch 1/50\n",
      "313/313 [==============================] - 8s 13ms/step - loss: 0.6999 - accuracy: 0.4955 - val_loss: 0.6818 - val_accuracy: 0.5666\n",
      "Epoch 2/50\n",
      "313/313 [==============================] - 4s 12ms/step - loss: 0.6731 - accuracy: 0.6048 - val_loss: 0.6491 - val_accuracy: 0.6746\n",
      "Epoch 3/50\n",
      "313/313 [==============================] - 4s 12ms/step - loss: 0.6391 - accuracy: 0.6954 - val_loss: 0.6201 - val_accuracy: 0.7154\n",
      "Epoch 4/50\n",
      "313/313 [==============================] - 4s 12ms/step - loss: 0.6096 - accuracy: 0.7288 - val_loss: 0.5912 - val_accuracy: 0.7422\n",
      "Epoch 5/50\n",
      "313/313 [==============================] - 4s 13ms/step - loss: 0.5788 - accuracy: 0.7479 - val_loss: 0.5636 - val_accuracy: 0.7548\n",
      "Epoch 6/50\n",
      "313/313 [==============================] - 4s 13ms/step - loss: 0.5512 - accuracy: 0.7617 - val_loss: 0.5403 - val_accuracy: 0.7618\n",
      "Epoch 7/50\n",
      "313/313 [==============================] - 4s 13ms/step - loss: 0.5225 - accuracy: 0.7734 - val_loss: 0.5233 - val_accuracy: 0.7576\n",
      "Epoch 8/50\n",
      "313/313 [==============================] - 4s 13ms/step - loss: 0.5059 - accuracy: 0.7753 - val_loss: 0.5090 - val_accuracy: 0.7652\n",
      "Epoch 9/50\n",
      "313/313 [==============================] - 4s 13ms/step - loss: 0.4821 - accuracy: 0.7842 - val_loss: 0.4990 - val_accuracy: 0.7690\n",
      "Epoch 10/50\n",
      "313/313 [==============================] - 4s 14ms/step - loss: 0.4824 - accuracy: 0.7833 - val_loss: 0.4928 - val_accuracy: 0.7712\n",
      "Epoch 11/50\n",
      "313/313 [==============================] - 4s 14ms/step - loss: 0.4717 - accuracy: 0.7890 - val_loss: 0.4869 - val_accuracy: 0.7738\n",
      "Epoch 12/50\n",
      "313/313 [==============================] - 4s 14ms/step - loss: 0.4529 - accuracy: 0.8008 - val_loss: 0.4839 - val_accuracy: 0.7728\n",
      "Epoch 13/50\n",
      "313/313 [==============================] - 4s 13ms/step - loss: 0.4556 - accuracy: 0.7987 - val_loss: 0.4905 - val_accuracy: 0.7698\n",
      "Epoch 14/50\n",
      "313/313 [==============================] - 4s 13ms/step - loss: 0.4484 - accuracy: 0.8030 - val_loss: 0.4822 - val_accuracy: 0.7782\n",
      "Epoch 15/50\n",
      "313/313 [==============================] - 4s 14ms/step - loss: 0.4479 - accuracy: 0.8014 - val_loss: 0.4770 - val_accuracy: 0.7806\n",
      "Epoch 16/50\n",
      "313/313 [==============================] - 4s 13ms/step - loss: 0.4356 - accuracy: 0.8103 - val_loss: 0.4751 - val_accuracy: 0.7816\n",
      "Epoch 17/50\n",
      "313/313 [==============================] - 4s 13ms/step - loss: 0.4360 - accuracy: 0.8072 - val_loss: 0.4723 - val_accuracy: 0.7778\n",
      "Epoch 18/50\n",
      "313/313 [==============================] - 4s 14ms/step - loss: 0.4328 - accuracy: 0.8102 - val_loss: 0.4682 - val_accuracy: 0.7852\n",
      "Epoch 19/50\n",
      "313/313 [==============================] - 4s 14ms/step - loss: 0.4252 - accuracy: 0.8130 - val_loss: 0.4654 - val_accuracy: 0.7836\n",
      "Epoch 20/50\n",
      "313/313 [==============================] - 4s 13ms/step - loss: 0.4270 - accuracy: 0.8125 - val_loss: 0.4627 - val_accuracy: 0.7878\n",
      "Epoch 21/50\n",
      "313/313 [==============================] - 4s 13ms/step - loss: 0.4276 - accuracy: 0.8122 - val_loss: 0.4639 - val_accuracy: 0.7870\n",
      "Epoch 22/50\n",
      "313/313 [==============================] - 4s 14ms/step - loss: 0.4247 - accuracy: 0.8155 - val_loss: 0.4708 - val_accuracy: 0.7852\n",
      "Epoch 23/50\n",
      "313/313 [==============================] - 4s 14ms/step - loss: 0.4305 - accuracy: 0.8108 - val_loss: 0.4617 - val_accuracy: 0.7860\n",
      "Epoch 24/50\n",
      "313/313 [==============================] - 4s 14ms/step - loss: 0.4228 - accuracy: 0.8172 - val_loss: 0.4675 - val_accuracy: 0.7862\n",
      "Epoch 25/50\n",
      "313/313 [==============================] - 4s 14ms/step - loss: 0.4171 - accuracy: 0.8173 - val_loss: 0.4605 - val_accuracy: 0.7850\n",
      "Epoch 26/50\n",
      "313/313 [==============================] - 4s 14ms/step - loss: 0.4187 - accuracy: 0.8160 - val_loss: 0.4691 - val_accuracy: 0.7826\n",
      "Epoch 27/50\n",
      "313/313 [==============================] - 4s 13ms/step - loss: 0.4174 - accuracy: 0.8173 - val_loss: 0.4580 - val_accuracy: 0.7882\n",
      "Epoch 28/50\n",
      "313/313 [==============================] - 4s 14ms/step - loss: 0.4196 - accuracy: 0.8154 - val_loss: 0.4672 - val_accuracy: 0.7816\n",
      "Epoch 29/50\n",
      "313/313 [==============================] - 4s 14ms/step - loss: 0.4168 - accuracy: 0.8173 - val_loss: 0.4566 - val_accuracy: 0.7890\n",
      "Epoch 30/50\n",
      "313/313 [==============================] - 4s 14ms/step - loss: 0.4075 - accuracy: 0.8251 - val_loss: 0.4623 - val_accuracy: 0.7842\n",
      "Epoch 31/50\n",
      "313/313 [==============================] - 4s 14ms/step - loss: 0.4057 - accuracy: 0.8236 - val_loss: 0.4629 - val_accuracy: 0.7836\n",
      "Epoch 32/50\n",
      "313/313 [==============================] - 4s 14ms/step - loss: 0.4073 - accuracy: 0.8233 - val_loss: 0.4551 - val_accuracy: 0.7898\n",
      "Epoch 33/50\n",
      "313/313 [==============================] - 4s 14ms/step - loss: 0.4151 - accuracy: 0.8145 - val_loss: 0.4574 - val_accuracy: 0.7862\n",
      "Epoch 34/50\n",
      "313/313 [==============================] - 4s 14ms/step - loss: 0.4063 - accuracy: 0.8242 - val_loss: 0.4718 - val_accuracy: 0.7804\n",
      "Epoch 35/50\n",
      "313/313 [==============================] - 4s 14ms/step - loss: 0.4066 - accuracy: 0.8209 - val_loss: 0.4594 - val_accuracy: 0.7882\n"
     ]
    }
   ],
   "source": [
    "history = model.fit(\n",
    "    train_seq,\n",
    "    train_target,\n",
    "    epochs=50,\n",
    "    batch_size=64,\n",
    "    validation_data=(val_seq, val_target),\n",
    "    callbacks=[checkpoint_cb, earlystopping_cb]\n",
    ")"
   ]
  },
  {
   "cell_type": "code",
   "execution_count": 17,
   "metadata": {},
   "outputs": [
    {
     "data": {
      "image/png": "[encoded data removed]",
      "text/plain": [
       "<Figure size 432x288 with 1 Axes>"
      ]
     },
     "metadata": {
      "needs_background": "light"
     },
     "output_type": "display_data"
    },
    {
     "data": {
      "text/plain": [
       "''"
      ]
     },
     "execution_count": 17,
     "metadata": {},
     "output_type": "execute_result"
    }
   ],
   "source": [
    "train_loss = history.history['loss']\n",
    "val_loss = history.history['val_loss']\n",
    "epoch_list = range(len(train_loss))\n",
    "\n",
    "plt.plot(epoch_list, train_loss, 'b', label='Train')\n",
    "plt.plot(epoch_list, val_loss, 'r', label='Validate')\n",
    "\n",
    "plt.xlabel('epoch')\n",
    "plt.ylabel('loss')\n",
    "plt.legend()\n",
    "\n",
    "plt.show()\n",
    ";"
   ]
  }
 ],
 "metadata": {
  "kernelspec": {
   "display_name": "Python 3",
   "language": "python",
   "name": "python3"
  },
  "language_info": {
   "codemirror_mode": {
    "name": "ipython",
    "version": 3
   },
   "file_extension": ".py",
   "mimetype": "text/x-python",
   "name": "python",
   "nbconvert_exporter": "python",
   "pygments_lexer": "ipython3",
   "version": "3.8.5"
  }
 },
 "nbformat": 4,
 "nbformat_minor": 4
}
