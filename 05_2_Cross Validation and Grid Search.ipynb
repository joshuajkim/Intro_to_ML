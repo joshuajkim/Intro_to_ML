{
 "cells": [
  {
   "cell_type": "code",
   "execution_count": 2,
   "metadata": {},
   "outputs": [],
   "source": [
    "import numpy as np\n",
    "import pandas as pd"
   ]
  },
  {
   "cell_type": "code",
   "execution_count": 3,
   "metadata": {},
   "outputs": [
    {
     "data": {
      "text/html": [
       "<div>\n",
       "<style scoped>\n",
       "    .dataframe tbody tr th:only-of-type {\n",
       "        vertical-align: middle;\n",
       "    }\n",
       "\n",
       "    .dataframe tbody tr th {\n",
       "        vertical-align: top;\n",
       "    }\n",
       "\n",
       "    .dataframe thead th {\n",
       "        text-align: right;\n",
       "    }\n",
       "</style>\n",
       "<table border=\"1\" class=\"dataframe\">\n",
       "  <thead>\n",
       "    <tr style=\"text-align: right;\">\n",
       "      <th></th>\n",
       "      <th>alcohol</th>\n",
       "      <th>sugar</th>\n",
       "      <th>pH</th>\n",
       "      <th>class</th>\n",
       "    </tr>\n",
       "  </thead>\n",
       "  <tbody>\n",
       "    <tr>\n",
       "      <th>0</th>\n",
       "      <td>9.4</td>\n",
       "      <td>1.9</td>\n",
       "      <td>3.51</td>\n",
       "      <td>0.0</td>\n",
       "    </tr>\n",
       "    <tr>\n",
       "      <th>1</th>\n",
       "      <td>9.8</td>\n",
       "      <td>2.6</td>\n",
       "      <td>3.20</td>\n",
       "      <td>0.0</td>\n",
       "    </tr>\n",
       "    <tr>\n",
       "      <th>2</th>\n",
       "      <td>9.8</td>\n",
       "      <td>2.3</td>\n",
       "      <td>3.26</td>\n",
       "      <td>0.0</td>\n",
       "    </tr>\n",
       "    <tr>\n",
       "      <th>3</th>\n",
       "      <td>9.8</td>\n",
       "      <td>1.9</td>\n",
       "      <td>3.16</td>\n",
       "      <td>0.0</td>\n",
       "    </tr>\n",
       "    <tr>\n",
       "      <th>4</th>\n",
       "      <td>9.4</td>\n",
       "      <td>1.9</td>\n",
       "      <td>3.51</td>\n",
       "      <td>0.0</td>\n",
       "    </tr>\n",
       "  </tbody>\n",
       "</table>\n",
       "</div>"
      ],
      "text/plain": [
       "   alcohol  sugar    pH  class\n",
       "0      9.4    1.9  3.51    0.0\n",
       "1      9.8    2.6  3.20    0.0\n",
       "2      9.8    2.3  3.26    0.0\n",
       "3      9.8    1.9  3.16    0.0\n",
       "4      9.4    1.9  3.51    0.0"
      ]
     },
     "execution_count": 3,
     "metadata": {},
     "output_type": "execute_result"
    }
   ],
   "source": [
    "wine = pd.read_csv('http://bit.ly/wine-date')\n",
    "wine.head()"
   ]
  },
  {
   "cell_type": "code",
   "execution_count": 4,
   "metadata": {},
   "outputs": [
    {
     "name": "stdout",
     "output_type": "stream",
     "text": [
      "(5197, 3) (1300, 3)\n",
      "(5197, 1) (1300, 1)\n"
     ]
    }
   ],
   "source": [
    "from sklearn.model_selection import train_test_split\n",
    "\n",
    "data_input = wine[['alcohol', 'sugar', 'pH']].to_numpy()\n",
    "data_target = wine[['class']].to_numpy()\n",
    "\n",
    "# Training 80%, Test 20%\n",
    "train_input, test_input, train_target, test_target =\\\n",
    "    train_test_split(data_input, data_target, test_size=0.2, random_state=1234)\n",
    "\n",
    "print(train_input.shape, test_input.shape)\n",
    "print(train_target.shape, test_target.shape)"
   ]
  },
  {
   "cell_type": "code",
   "execution_count": 5,
   "metadata": {},
   "outputs": [
    {
     "name": "stdout",
     "output_type": "stream",
     "text": [
      "(4157, 3) (1040, 3) (1300, 3)\n",
      "(4157, 1) (1040, 1) (1300, 1)\n"
     ]
    }
   ],
   "source": [
    "# Train 64%, Validate 16%, Test: 20%\n",
    "train_input, val_input, train_target, val_target =\\\n",
    "    train_test_split(train_input, train_target, test_size=0.2, random_state=1234)\n",
    "\n",
    "print(train_input.shape, val_input.shape, test_input.shape)\n",
    "print(train_target.shape, val_target.shape, test_target.shape)"
   ]
  },
  {
   "cell_type": "code",
   "execution_count": 6,
   "metadata": {},
   "outputs": [
    {
     "name": "stdout",
     "output_type": "stream",
     "text": [
      "R Score (Train Set): 0.9983\n",
      "R Score (Val Set): 0.8702\n"
     ]
    }
   ],
   "source": [
    "from sklearn.tree import DecisionTreeClassifier\n",
    "\n",
    "dt = DecisionTreeClassifier(random_state=1234)\n",
    "dt.fit(train_input, train_target)\n",
    "\n",
    "print('R Score (Train Set):', dt.score(train_input, train_target).round(4))\n",
    "print('R Score (Val Set):', dt.score(val_input, val_target).round(4))"
   ]
  },
  {
   "cell_type": "markdown",
   "metadata": {},
   "source": [
    "### k-fold Cross Validation"
   ]
  },
  {
   "cell_type": "code",
   "execution_count": 7,
   "metadata": {},
   "outputs": [
    {
     "data": {
      "text/html": [
       "<div>\n",
       "<style scoped>\n",
       "    .dataframe tbody tr th:only-of-type {\n",
       "        vertical-align: middle;\n",
       "    }\n",
       "\n",
       "    .dataframe tbody tr th {\n",
       "        vertical-align: top;\n",
       "    }\n",
       "\n",
       "    .dataframe thead th {\n",
       "        text-align: right;\n",
       "    }\n",
       "</style>\n",
       "<table border=\"1\" class=\"dataframe\">\n",
       "  <thead>\n",
       "    <tr style=\"text-align: right;\">\n",
       "      <th></th>\n",
       "      <th>fit_time</th>\n",
       "      <th>score_time</th>\n",
       "      <th>test_score</th>\n",
       "    </tr>\n",
       "  </thead>\n",
       "  <tbody>\n",
       "    <tr>\n",
       "      <th>0</th>\n",
       "      <td>0.004986</td>\n",
       "      <td>0.000998</td>\n",
       "      <td>0.858173</td>\n",
       "    </tr>\n",
       "    <tr>\n",
       "      <th>1</th>\n",
       "      <td>0.006019</td>\n",
       "      <td>0.000000</td>\n",
       "      <td>0.843750</td>\n",
       "    </tr>\n",
       "    <tr>\n",
       "      <th>2</th>\n",
       "      <td>0.004987</td>\n",
       "      <td>0.000000</td>\n",
       "      <td>0.826923</td>\n",
       "    </tr>\n",
       "    <tr>\n",
       "      <th>3</th>\n",
       "      <td>0.005987</td>\n",
       "      <td>0.000000</td>\n",
       "      <td>0.865385</td>\n",
       "    </tr>\n",
       "    <tr>\n",
       "      <th>4</th>\n",
       "      <td>0.005981</td>\n",
       "      <td>0.000000</td>\n",
       "      <td>0.865385</td>\n",
       "    </tr>\n",
       "    <tr>\n",
       "      <th>5</th>\n",
       "      <td>0.004987</td>\n",
       "      <td>0.000000</td>\n",
       "      <td>0.848558</td>\n",
       "    </tr>\n",
       "    <tr>\n",
       "      <th>6</th>\n",
       "      <td>0.005984</td>\n",
       "      <td>0.000000</td>\n",
       "      <td>0.865385</td>\n",
       "    </tr>\n",
       "    <tr>\n",
       "      <th>7</th>\n",
       "      <td>0.005983</td>\n",
       "      <td>0.000000</td>\n",
       "      <td>0.879518</td>\n",
       "    </tr>\n",
       "    <tr>\n",
       "      <th>8</th>\n",
       "      <td>0.004987</td>\n",
       "      <td>0.000997</td>\n",
       "      <td>0.843373</td>\n",
       "    </tr>\n",
       "    <tr>\n",
       "      <th>9</th>\n",
       "      <td>0.004988</td>\n",
       "      <td>0.000996</td>\n",
       "      <td>0.855422</td>\n",
       "    </tr>\n",
       "  </tbody>\n",
       "</table>\n",
       "</div>"
      ],
      "text/plain": [
       "   fit_time  score_time  test_score\n",
       "0  0.004986    0.000998    0.858173\n",
       "1  0.006019    0.000000    0.843750\n",
       "2  0.004987    0.000000    0.826923\n",
       "3  0.005987    0.000000    0.865385\n",
       "4  0.005981    0.000000    0.865385\n",
       "5  0.004987    0.000000    0.848558\n",
       "6  0.005984    0.000000    0.865385\n",
       "7  0.005983    0.000000    0.879518\n",
       "8  0.004987    0.000997    0.843373\n",
       "9  0.004988    0.000996    0.855422"
      ]
     },
     "execution_count": 7,
     "metadata": {},
     "output_type": "execute_result"
    }
   ],
   "source": [
    "from sklearn.model_selection import cross_validate\n",
    "\n",
    "result = cross_validate(dt, train_input, train_target, cv=10)\n",
    "result_df = pd.DataFrame(result)\n",
    "result_df"
   ]
  },
  {
   "cell_type": "code",
   "execution_count": 12,
   "metadata": {},
   "outputs": [
    {
     "name": "stdout",
     "output_type": "stream",
     "text": [
      "Average Validate Score: 0.8552\n"
     ]
    }
   ],
   "source": [
    "print('Average Validate Score:', np.round(result_df['test_score'].mean(), 4))"
   ]
  },
  {
   "cell_type": "markdown",
   "metadata": {},
   "source": [
    "### k-fold Cross Validation (Stratified)"
   ]
  },
  {
   "cell_type": "code",
   "execution_count": 13,
   "metadata": {},
   "outputs": [
    {
     "data": {
      "text/html": [
       "<div>\n",
       "<style scoped>\n",
       "    .dataframe tbody tr th:only-of-type {\n",
       "        vertical-align: middle;\n",
       "    }\n",
       "\n",
       "    .dataframe tbody tr th {\n",
       "        vertical-align: top;\n",
       "    }\n",
       "\n",
       "    .dataframe thead th {\n",
       "        text-align: right;\n",
       "    }\n",
       "</style>\n",
       "<table border=\"1\" class=\"dataframe\">\n",
       "  <thead>\n",
       "    <tr style=\"text-align: right;\">\n",
       "      <th></th>\n",
       "      <th>fit_time</th>\n",
       "      <th>score_time</th>\n",
       "      <th>test_score</th>\n",
       "    </tr>\n",
       "  </thead>\n",
       "  <tbody>\n",
       "    <tr>\n",
       "      <th>0</th>\n",
       "      <td>0.005985</td>\n",
       "      <td>0.000998</td>\n",
       "      <td>0.858173</td>\n",
       "    </tr>\n",
       "    <tr>\n",
       "      <th>1</th>\n",
       "      <td>0.005982</td>\n",
       "      <td>0.000000</td>\n",
       "      <td>0.850962</td>\n",
       "    </tr>\n",
       "    <tr>\n",
       "      <th>2</th>\n",
       "      <td>0.004985</td>\n",
       "      <td>0.000998</td>\n",
       "      <td>0.870192</td>\n",
       "    </tr>\n",
       "    <tr>\n",
       "      <th>3</th>\n",
       "      <td>0.004987</td>\n",
       "      <td>0.000997</td>\n",
       "      <td>0.850962</td>\n",
       "    </tr>\n",
       "    <tr>\n",
       "      <th>4</th>\n",
       "      <td>0.005984</td>\n",
       "      <td>0.000998</td>\n",
       "      <td>0.836538</td>\n",
       "    </tr>\n",
       "    <tr>\n",
       "      <th>5</th>\n",
       "      <td>0.004985</td>\n",
       "      <td>0.000998</td>\n",
       "      <td>0.855769</td>\n",
       "    </tr>\n",
       "    <tr>\n",
       "      <th>6</th>\n",
       "      <td>0.004987</td>\n",
       "      <td>0.000998</td>\n",
       "      <td>0.858173</td>\n",
       "    </tr>\n",
       "    <tr>\n",
       "      <th>7</th>\n",
       "      <td>0.005983</td>\n",
       "      <td>0.000000</td>\n",
       "      <td>0.850602</td>\n",
       "    </tr>\n",
       "    <tr>\n",
       "      <th>8</th>\n",
       "      <td>0.004987</td>\n",
       "      <td>0.000000</td>\n",
       "      <td>0.836145</td>\n",
       "    </tr>\n",
       "    <tr>\n",
       "      <th>9</th>\n",
       "      <td>0.004986</td>\n",
       "      <td>0.000998</td>\n",
       "      <td>0.867470</td>\n",
       "    </tr>\n",
       "  </tbody>\n",
       "</table>\n",
       "</div>"
      ],
      "text/plain": [
       "   fit_time  score_time  test_score\n",
       "0  0.005985    0.000998    0.858173\n",
       "1  0.005982    0.000000    0.850962\n",
       "2  0.004985    0.000998    0.870192\n",
       "3  0.004987    0.000997    0.850962\n",
       "4  0.005984    0.000998    0.836538\n",
       "5  0.004985    0.000998    0.855769\n",
       "6  0.004987    0.000998    0.858173\n",
       "7  0.005983    0.000000    0.850602\n",
       "8  0.004987    0.000000    0.836145\n",
       "9  0.004986    0.000998    0.867470"
      ]
     },
     "execution_count": 13,
     "metadata": {},
     "output_type": "execute_result"
    }
   ],
   "source": [
    "from sklearn.model_selection import StratifiedKFold\n",
    "\n",
    "splitter = StratifiedKFold(n_splits=10, shuffle=True, random_state=1234)\n",
    "\n",
    "result = cross_validate(dt, train_input, train_target, cv=splitter)\n",
    "result_df = pd.DataFrame(result)\n",
    "result_df"
   ]
  },
  {
   "cell_type": "code",
   "execution_count": 14,
   "metadata": {},
   "outputs": [
    {
     "name": "stdout",
     "output_type": "stream",
     "text": [
      "Average Validate Score: 0.8535\n"
     ]
    }
   ],
   "source": [
    "print('Average Validate Score:', np.round(result_df['test_score'].mean(), 4))"
   ]
  },
  {
   "cell_type": "markdown",
   "metadata": {},
   "source": [
    "### Grid Search"
   ]
  },
  {
   "cell_type": "code",
   "execution_count": 15,
   "metadata": {},
   "outputs": [
    {
     "data": {
      "text/plain": [
       "GridSearchCV(estimator=DecisionTreeClassifier(random_state=1234), n_jobs=-1,\n",
       "             param_grid={'min_impurity_decrease': [0.0001, 0.0002, 0.0003,\n",
       "                                                   0.0004, 0.0005]})"
      ]
     },
     "execution_count": 15,
     "metadata": {},
     "output_type": "execute_result"
    }
   ],
   "source": [
    "from sklearn.model_selection import GridSearchCV\n",
    "\n",
    "params_dict = {\n",
    "    'min_impurity_decrease': [0.0001, 0.0002, 0.0003, 0.0004, 0.0005]\n",
    "}\n",
    "\n",
    "dt = DecisionTreeClassifier(random_state=1234)\n",
    "\n",
    "gs = GridSearchCV(dt, params_dict, n_jobs=-1)\n",
    "gs.fit(train_input, train_target)"
   ]
  },
  {
   "cell_type": "code",
   "execution_count": 16,
   "metadata": {},
   "outputs": [
    {
     "name": "stdout",
     "output_type": "stream",
     "text": [
      "DecisionTreeClassifier(min_impurity_decrease=0.0003, random_state=1234)\n"
     ]
    }
   ],
   "source": [
    "dt = gs.best_estimator_\n",
    "print(dt)"
   ]
  },
  {
   "cell_type": "code",
   "execution_count": 20,
   "metadata": {},
   "outputs": [
    {
     "data": {
      "text/html": [
       "<div>\n",
       "<style scoped>\n",
       "    .dataframe tbody tr th:only-of-type {\n",
       "        vertical-align: middle;\n",
       "    }\n",
       "\n",
       "    .dataframe tbody tr th {\n",
       "        vertical-align: top;\n",
       "    }\n",
       "\n",
       "    .dataframe thead th {\n",
       "        text-align: right;\n",
       "    }\n",
       "</style>\n",
       "<table border=\"1\" class=\"dataframe\">\n",
       "  <thead>\n",
       "    <tr style=\"text-align: right;\">\n",
       "      <th></th>\n",
       "      <th>mean_fit_time</th>\n",
       "      <th>std_fit_time</th>\n",
       "      <th>mean_score_time</th>\n",
       "      <th>std_score_time</th>\n",
       "      <th>param_min_impurity_decrease</th>\n",
       "      <th>params</th>\n",
       "      <th>split0_test_score</th>\n",
       "      <th>split1_test_score</th>\n",
       "      <th>split2_test_score</th>\n",
       "      <th>split3_test_score</th>\n",
       "      <th>split4_test_score</th>\n",
       "      <th>mean_test_score</th>\n",
       "      <th>std_test_score</th>\n",
       "      <th>rank_test_score</th>\n",
       "    </tr>\n",
       "  </thead>\n",
       "  <tbody>\n",
       "    <tr>\n",
       "      <th>0</th>\n",
       "      <td>0.008378</td>\n",
       "      <td>0.001196</td>\n",
       "      <td>0.001396</td>\n",
       "      <td>0.000490</td>\n",
       "      <td>0.0001</td>\n",
       "      <td>{'min_impurity_decrease': 0.0001}</td>\n",
       "      <td>0.853365</td>\n",
       "      <td>0.850962</td>\n",
       "      <td>0.855596</td>\n",
       "      <td>0.862816</td>\n",
       "      <td>0.851986</td>\n",
       "      <td>0.854945</td>\n",
       "      <td>0.004231</td>\n",
       "      <td>5</td>\n",
       "    </tr>\n",
       "    <tr>\n",
       "      <th>1</th>\n",
       "      <td>0.007381</td>\n",
       "      <td>0.000802</td>\n",
       "      <td>0.001395</td>\n",
       "      <td>0.000486</td>\n",
       "      <td>0.0002</td>\n",
       "      <td>{'min_impurity_decrease': 0.0002}</td>\n",
       "      <td>0.860577</td>\n",
       "      <td>0.858173</td>\n",
       "      <td>0.872443</td>\n",
       "      <td>0.868833</td>\n",
       "      <td>0.862816</td>\n",
       "      <td>0.864568</td>\n",
       "      <td>0.005293</td>\n",
       "      <td>2</td>\n",
       "    </tr>\n",
       "    <tr>\n",
       "      <th>2</th>\n",
       "      <td>0.007178</td>\n",
       "      <td>0.000745</td>\n",
       "      <td>0.001201</td>\n",
       "      <td>0.000398</td>\n",
       "      <td>0.0003</td>\n",
       "      <td>{'min_impurity_decrease': 0.0003}</td>\n",
       "      <td>0.861779</td>\n",
       "      <td>0.865385</td>\n",
       "      <td>0.873646</td>\n",
       "      <td>0.861613</td>\n",
       "      <td>0.872443</td>\n",
       "      <td>0.866973</td>\n",
       "      <td>0.005151</td>\n",
       "      <td>1</td>\n",
       "    </tr>\n",
       "    <tr>\n",
       "      <th>3</th>\n",
       "      <td>0.007579</td>\n",
       "      <td>0.000490</td>\n",
       "      <td>0.000998</td>\n",
       "      <td>0.000004</td>\n",
       "      <td>0.0004</td>\n",
       "      <td>{'min_impurity_decrease': 0.0004}</td>\n",
       "      <td>0.859375</td>\n",
       "      <td>0.854567</td>\n",
       "      <td>0.867629</td>\n",
       "      <td>0.866426</td>\n",
       "      <td>0.859206</td>\n",
       "      <td>0.861441</td>\n",
       "      <td>0.004892</td>\n",
       "      <td>4</td>\n",
       "    </tr>\n",
       "    <tr>\n",
       "      <th>4</th>\n",
       "      <td>0.006779</td>\n",
       "      <td>0.000399</td>\n",
       "      <td>0.000599</td>\n",
       "      <td>0.000489</td>\n",
       "      <td>0.0005</td>\n",
       "      <td>{'min_impurity_decrease': 0.0005}</td>\n",
       "      <td>0.853365</td>\n",
       "      <td>0.859375</td>\n",
       "      <td>0.882070</td>\n",
       "      <td>0.865223</td>\n",
       "      <td>0.854392</td>\n",
       "      <td>0.862885</td>\n",
       "      <td>0.010475</td>\n",
       "      <td>3</td>\n",
       "    </tr>\n",
       "  </tbody>\n",
       "</table>\n",
       "</div>"
      ],
      "text/plain": [
       "   mean_fit_time  std_fit_time  mean_score_time  std_score_time  \\\n",
       "0       0.008378      0.001196         0.001396        0.000490   \n",
       "1       0.007381      0.000802         0.001395        0.000486   \n",
       "2       0.007178      0.000745         0.001201        0.000398   \n",
       "3       0.007579      0.000490         0.000998        0.000004   \n",
       "4       0.006779      0.000399         0.000599        0.000489   \n",
       "\n",
       "  param_min_impurity_decrease                             params  \\\n",
       "0                      0.0001  {'min_impurity_decrease': 0.0001}   \n",
       "1                      0.0002  {'min_impurity_decrease': 0.0002}   \n",
       "2                      0.0003  {'min_impurity_decrease': 0.0003}   \n",
       "3                      0.0004  {'min_impurity_decrease': 0.0004}   \n",
       "4                      0.0005  {'min_impurity_decrease': 0.0005}   \n",
       "\n",
       "   split0_test_score  split1_test_score  split2_test_score  split3_test_score  \\\n",
       "0           0.853365           0.850962           0.855596           0.862816   \n",
       "1           0.860577           0.858173           0.872443           0.868833   \n",
       "2           0.861779           0.865385           0.873646           0.861613   \n",
       "3           0.859375           0.854567           0.867629           0.866426   \n",
       "4           0.853365           0.859375           0.882070           0.865223   \n",
       "\n",
       "   split4_test_score  mean_test_score  std_test_score  rank_test_score  \n",
       "0           0.851986         0.854945        0.004231                5  \n",
       "1           0.862816         0.864568        0.005293                2  \n",
       "2           0.872443         0.866973        0.005151                1  \n",
       "3           0.859206         0.861441        0.004892                4  \n",
       "4           0.854392         0.862885        0.010475                3  "
      ]
     },
     "execution_count": 20,
     "metadata": {},
     "output_type": "execute_result"
    }
   ],
   "source": [
    "pd.DataFrame(gs.cv_results_)"
   ]
  },
  {
   "cell_type": "code",
   "execution_count": 21,
   "metadata": {},
   "outputs": [
    {
     "name": "stdout",
     "output_type": "stream",
     "text": [
      "[0.8549 0.8646 0.867  0.8614 0.8629]\n"
     ]
    }
   ],
   "source": [
    "print(gs.cv_results_['mean_test_score'].round(4))"
   ]
  },
  {
   "cell_type": "code",
   "execution_count": 22,
   "metadata": {},
   "outputs": [
    {
     "name": "stdout",
     "output_type": "stream",
     "text": [
      "{'min_impurity_decrease': 0.0003}\n"
     ]
    }
   ],
   "source": [
    "best_idx = np.argmax(gs.cv_results_['mean_test_score'])\n",
    "print(gs.cv_results_['params'][best_idx])"
   ]
  },
  {
   "cell_type": "markdown",
   "metadata": {},
   "source": [
    "### Grid Search (complex version)"
   ]
  },
  {
   "cell_type": "code",
   "execution_count": 23,
   "metadata": {},
   "outputs": [
    {
     "data": {
      "text/plain": [
       "GridSearchCV(estimator=DecisionTreeClassifier(random_state=1234), n_jobs=-1,\n",
       "             param_grid={'max_depth': range(5, 20),\n",
       "                         'min_impurity_decrease': array([0.0001, 0.0002, 0.0003, 0.0004, 0.0005, 0.0006, 0.0007, 0.0008,\n",
       "       0.0009]),\n",
       "                         'min_samples_split': range(2, 100, 10)})"
      ]
     },
     "execution_count": 23,
     "metadata": {},
     "output_type": "execute_result"
    }
   ],
   "source": [
    "params_dict = {\n",
    "    'min_impurity_decrease': np.arange(0.0001, 0.0010, 0.0001),\n",
    "    'max_depth': range(5, 20, 1),\n",
    "    'min_samples_split': range(2, 100, 10)\n",
    "}\n",
    "\n",
    "dt = DecisionTreeClassifier(random_state=1234)\n",
    "\n",
    "gs = GridSearchCV(dt, params_dict, n_jobs=-1)\n",
    "gs.fit(train_input, train_target)"
   ]
  },
  {
   "cell_type": "code",
   "execution_count": 24,
   "metadata": {},
   "outputs": [
    {
     "data": {
      "text/html": [
       "<div>\n",
       "<style scoped>\n",
       "    .dataframe tbody tr th:only-of-type {\n",
       "        vertical-align: middle;\n",
       "    }\n",
       "\n",
       "    .dataframe tbody tr th {\n",
       "        vertical-align: top;\n",
       "    }\n",
       "\n",
       "    .dataframe thead th {\n",
       "        text-align: right;\n",
       "    }\n",
       "</style>\n",
       "<table border=\"1\" class=\"dataframe\">\n",
       "  <thead>\n",
       "    <tr style=\"text-align: right;\">\n",
       "      <th></th>\n",
       "      <th>mean_fit_time</th>\n",
       "      <th>std_fit_time</th>\n",
       "      <th>mean_score_time</th>\n",
       "      <th>std_score_time</th>\n",
       "      <th>param_max_depth</th>\n",
       "      <th>param_min_impurity_decrease</th>\n",
       "      <th>param_min_samples_split</th>\n",
       "      <th>params</th>\n",
       "      <th>split0_test_score</th>\n",
       "      <th>split1_test_score</th>\n",
       "      <th>split2_test_score</th>\n",
       "      <th>split3_test_score</th>\n",
       "      <th>split4_test_score</th>\n",
       "      <th>mean_test_score</th>\n",
       "      <th>std_test_score</th>\n",
       "      <th>rank_test_score</th>\n",
       "    </tr>\n",
       "  </thead>\n",
       "  <tbody>\n",
       "    <tr>\n",
       "      <th>0</th>\n",
       "      <td>0.006582</td>\n",
       "      <td>0.001738</td>\n",
       "      <td>0.001396</td>\n",
       "      <td>0.000489</td>\n",
       "      <td>5</td>\n",
       "      <td>0.0001</td>\n",
       "      <td>2</td>\n",
       "      <td>{'max_depth': 5, 'min_impurity_decrease': 0.00...</td>\n",
       "      <td>0.853365</td>\n",
       "      <td>0.856971</td>\n",
       "      <td>0.861613</td>\n",
       "      <td>0.836342</td>\n",
       "      <td>0.854392</td>\n",
       "      <td>0.852537</td>\n",
       "      <td>0.008584</td>\n",
       "      <td>1322</td>\n",
       "    </tr>\n",
       "    <tr>\n",
       "      <th>1</th>\n",
       "      <td>0.009375</td>\n",
       "      <td>0.007794</td>\n",
       "      <td>0.000798</td>\n",
       "      <td>0.000747</td>\n",
       "      <td>5</td>\n",
       "      <td>0.0001</td>\n",
       "      <td>12</td>\n",
       "      <td>{'max_depth': 5, 'min_impurity_decrease': 0.00...</td>\n",
       "      <td>0.853365</td>\n",
       "      <td>0.856971</td>\n",
       "      <td>0.861613</td>\n",
       "      <td>0.837545</td>\n",
       "      <td>0.854392</td>\n",
       "      <td>0.852777</td>\n",
       "      <td>0.008132</td>\n",
       "      <td>1307</td>\n",
       "    </tr>\n",
       "    <tr>\n",
       "      <th>2</th>\n",
       "      <td>0.005385</td>\n",
       "      <td>0.000489</td>\n",
       "      <td>0.000998</td>\n",
       "      <td>0.000001</td>\n",
       "      <td>5</td>\n",
       "      <td>0.0001</td>\n",
       "      <td>22</td>\n",
       "      <td>{'max_depth': 5, 'min_impurity_decrease': 0.00...</td>\n",
       "      <td>0.853365</td>\n",
       "      <td>0.859375</td>\n",
       "      <td>0.861613</td>\n",
       "      <td>0.837545</td>\n",
       "      <td>0.854392</td>\n",
       "      <td>0.853258</td>\n",
       "      <td>0.008431</td>\n",
       "      <td>1237</td>\n",
       "    </tr>\n",
       "    <tr>\n",
       "      <th>3</th>\n",
       "      <td>0.004586</td>\n",
       "      <td>0.000489</td>\n",
       "      <td>0.000798</td>\n",
       "      <td>0.000399</td>\n",
       "      <td>5</td>\n",
       "      <td>0.0001</td>\n",
       "      <td>32</td>\n",
       "      <td>{'max_depth': 5, 'min_impurity_decrease': 0.00...</td>\n",
       "      <td>0.853365</td>\n",
       "      <td>0.859375</td>\n",
       "      <td>0.861613</td>\n",
       "      <td>0.833935</td>\n",
       "      <td>0.854392</td>\n",
       "      <td>0.852536</td>\n",
       "      <td>0.009791</td>\n",
       "      <td>1323</td>\n",
       "    </tr>\n",
       "    <tr>\n",
       "      <th>4</th>\n",
       "      <td>0.006783</td>\n",
       "      <td>0.004608</td>\n",
       "      <td>0.000996</td>\n",
       "      <td>0.000631</td>\n",
       "      <td>5</td>\n",
       "      <td>0.0001</td>\n",
       "      <td>42</td>\n",
       "      <td>{'max_depth': 5, 'min_impurity_decrease': 0.00...</td>\n",
       "      <td>0.855769</td>\n",
       "      <td>0.859375</td>\n",
       "      <td>0.861613</td>\n",
       "      <td>0.833935</td>\n",
       "      <td>0.854392</td>\n",
       "      <td>0.853017</td>\n",
       "      <td>0.009878</td>\n",
       "      <td>1289</td>\n",
       "    </tr>\n",
       "  </tbody>\n",
       "</table>\n",
       "</div>"
      ],
      "text/plain": [
       "   mean_fit_time  std_fit_time  mean_score_time  std_score_time  \\\n",
       "0       0.006582      0.001738         0.001396        0.000489   \n",
       "1       0.009375      0.007794         0.000798        0.000747   \n",
       "2       0.005385      0.000489         0.000998        0.000001   \n",
       "3       0.004586      0.000489         0.000798        0.000399   \n",
       "4       0.006783      0.004608         0.000996        0.000631   \n",
       "\n",
       "  param_max_depth param_min_impurity_decrease param_min_samples_split  \\\n",
       "0               5                      0.0001                       2   \n",
       "1               5                      0.0001                      12   \n",
       "2               5                      0.0001                      22   \n",
       "3               5                      0.0001                      32   \n",
       "4               5                      0.0001                      42   \n",
       "\n",
       "                                              params  split0_test_score  \\\n",
       "0  {'max_depth': 5, 'min_impurity_decrease': 0.00...           0.853365   \n",
       "1  {'max_depth': 5, 'min_impurity_decrease': 0.00...           0.853365   \n",
       "2  {'max_depth': 5, 'min_impurity_decrease': 0.00...           0.853365   \n",
       "3  {'max_depth': 5, 'min_impurity_decrease': 0.00...           0.853365   \n",
       "4  {'max_depth': 5, 'min_impurity_decrease': 0.00...           0.855769   \n",
       "\n",
       "   split1_test_score  split2_test_score  split3_test_score  split4_test_score  \\\n",
       "0           0.856971           0.861613           0.836342           0.854392   \n",
       "1           0.856971           0.861613           0.837545           0.854392   \n",
       "2           0.859375           0.861613           0.837545           0.854392   \n",
       "3           0.859375           0.861613           0.833935           0.854392   \n",
       "4           0.859375           0.861613           0.833935           0.854392   \n",
       "\n",
       "   mean_test_score  std_test_score  rank_test_score  \n",
       "0         0.852537        0.008584             1322  \n",
       "1         0.852777        0.008132             1307  \n",
       "2         0.853258        0.008431             1237  \n",
       "3         0.852536        0.009791             1323  \n",
       "4         0.853017        0.009878             1289  "
      ]
     },
     "execution_count": 24,
     "metadata": {},
     "output_type": "execute_result"
    }
   ],
   "source": [
    "pd.DataFrame(gs.cv_results_).head()"
   ]
  },
  {
   "cell_type": "code",
   "execution_count": 25,
   "metadata": {},
   "outputs": [
    {
     "name": "stdout",
     "output_type": "stream",
     "text": [
      "{'max_depth': 15, 'min_impurity_decrease': 0.00030000000000000003, 'min_samples_split': 2}\n"
     ]
    }
   ],
   "source": [
    "print(gs.best_params_)"
   ]
  },
  {
   "cell_type": "markdown",
   "metadata": {},
   "source": [
    "### Random Search"
   ]
  },
  {
   "cell_type": "code",
   "execution_count": 26,
   "metadata": {},
   "outputs": [
    {
     "data": {
      "text/plain": [
       "array([3, 8, 5, 0, 1, 1, 3, 5, 2, 1])"
      ]
     },
     "execution_count": 26,
     "metadata": {},
     "output_type": "execute_result"
    }
   ],
   "source": [
    "from scipy.stats import uniform, randint\n",
    "\n",
    "rgen = randint(0, 10)\n",
    "rgen.rvs(10)"
   ]
  },
  {
   "cell_type": "code",
   "execution_count": 27,
   "metadata": {},
   "outputs": [
    {
     "data": {
      "text/plain": [
       "(array([0, 1, 2, 3, 4, 5, 6, 7, 8, 9]),\n",
       " array([ 97, 107,  98,  95, 101, 106,  89, 112, 104,  91], dtype=int64))"
      ]
     },
     "execution_count": 27,
     "metadata": {},
     "output_type": "execute_result"
    }
   ],
   "source": [
    "np.unique(rgen.rvs(1000), return_counts=True)"
   ]
  },
  {
   "cell_type": "code",
   "execution_count": 28,
   "metadata": {},
   "outputs": [
    {
     "data": {
      "text/plain": [
       "array([0.56168744, 0.37480126, 0.57504075, 0.97308525, 0.40499052,\n",
       "       0.95311773, 0.63882419, 0.12471848, 0.3880794 , 0.14906296])"
      ]
     },
     "execution_count": 28,
     "metadata": {},
     "output_type": "execute_result"
    }
   ],
   "source": [
    "ugen = uniform(0, 1)\n",
    "ugen.rvs(10)"
   ]
  },
  {
   "cell_type": "code",
   "execution_count": 29,
   "metadata": {},
   "outputs": [
    {
     "data": {
      "text/plain": [
       "RandomizedSearchCV(estimator=DecisionTreeClassifier(random_state=1234),\n",
       "                   n_iter=100, n_jobs=-1,\n",
       "                   param_distributions={'max_depth': <scipy.stats._distn_infrastructure.rv_frozen object at 0x000001EAD71D75E0>,\n",
       "                                        'min_impurity_decrease': <scipy.stats._distn_infrastructure.rv_frozen object at 0x000001EAD71D70D0>,\n",
       "                                        'min_samples_leaf': <scipy.stats._distn_infrastructure.rv_frozen object at 0x000001EAD6FE3F40>,\n",
       "                                        'min_samples_split': <scipy.stats._distn_infrastructure.rv_frozen object at 0x000001EAD6FE3EB0>},\n",
       "                   random_state=1234)"
      ]
     },
     "execution_count": 29,
     "metadata": {},
     "output_type": "execute_result"
    }
   ],
   "source": [
    "params_dict = {\n",
    "    'min_impurity_decrease': uniform(0.0001, 0.0010),\n",
    "    'max_depth': randint(20, 50),\n",
    "    'min_samples_split': randint(2, 25),\n",
    "    'min_samples_leaf': randint(1, 25)\n",
    "}\n",
    "\n",
    "from sklearn.model_selection import RandomizedSearchCV\n",
    "\n",
    "dt = DecisionTreeClassifier(random_state=1234)\n",
    "\n",
    "gs = RandomizedSearchCV(dt, params_dict, n_iter=100, n_jobs=-1, random_state=1234)\n",
    "gs.fit(train_input, train_target)"
   ]
  },
  {
   "cell_type": "code",
   "execution_count": 30,
   "metadata": {},
   "outputs": [
    {
     "name": "stdout",
     "output_type": "stream",
     "text": [
      "{'max_depth': 28, 'min_impurity_decrease': 0.0009714232550486981, 'min_samples_leaf': 6, 'min_samples_split': 15}\n"
     ]
    }
   ],
   "source": [
    "print(gs.best_params_)"
   ]
  },
  {
   "cell_type": "code",
   "execution_count": 31,
   "metadata": {},
   "outputs": [
    {
     "data": {
      "text/html": [
       "<div>\n",
       "<style scoped>\n",
       "    .dataframe tbody tr th:only-of-type {\n",
       "        vertical-align: middle;\n",
       "    }\n",
       "\n",
       "    .dataframe tbody tr th {\n",
       "        vertical-align: top;\n",
       "    }\n",
       "\n",
       "    .dataframe thead th {\n",
       "        text-align: right;\n",
       "    }\n",
       "</style>\n",
       "<table border=\"1\" class=\"dataframe\">\n",
       "  <thead>\n",
       "    <tr style=\"text-align: right;\">\n",
       "      <th></th>\n",
       "      <th>mean_fit_time</th>\n",
       "      <th>std_fit_time</th>\n",
       "      <th>mean_score_time</th>\n",
       "      <th>std_score_time</th>\n",
       "      <th>param_max_depth</th>\n",
       "      <th>param_min_impurity_decrease</th>\n",
       "      <th>param_min_samples_leaf</th>\n",
       "      <th>param_min_samples_split</th>\n",
       "      <th>params</th>\n",
       "      <th>split0_test_score</th>\n",
       "      <th>split1_test_score</th>\n",
       "      <th>split2_test_score</th>\n",
       "      <th>split3_test_score</th>\n",
       "      <th>split4_test_score</th>\n",
       "      <th>mean_test_score</th>\n",
       "      <th>std_test_score</th>\n",
       "      <th>rank_test_score</th>\n",
       "    </tr>\n",
       "  </thead>\n",
       "  <tbody>\n",
       "    <tr>\n",
       "      <th>0</th>\n",
       "      <td>0.005585</td>\n",
       "      <td>0.000798</td>\n",
       "      <td>0.001397</td>\n",
       "      <td>0.000489</td>\n",
       "      <td>35</td>\n",
       "      <td>0.000597664</td>\n",
       "      <td>22</td>\n",
       "      <td>14</td>\n",
       "      <td>{'max_depth': 35, 'min_impurity_decrease': 0.0...</td>\n",
       "      <td>0.866587</td>\n",
       "      <td>0.853365</td>\n",
       "      <td>0.865223</td>\n",
       "      <td>0.850782</td>\n",
       "      <td>0.858002</td>\n",
       "      <td>0.858792</td>\n",
       "      <td>0.006266</td>\n",
       "      <td>45</td>\n",
       "    </tr>\n",
       "    <tr>\n",
       "      <th>1</th>\n",
       "      <td>0.005783</td>\n",
       "      <td>0.000747</td>\n",
       "      <td>0.001596</td>\n",
       "      <td>0.000799</td>\n",
       "      <td>40</td>\n",
       "      <td>0.000885359</td>\n",
       "      <td>16</td>\n",
       "      <td>19</td>\n",
       "      <td>{'max_depth': 40, 'min_impurity_decrease': 0.0...</td>\n",
       "      <td>0.866587</td>\n",
       "      <td>0.854567</td>\n",
       "      <td>0.867629</td>\n",
       "      <td>0.855596</td>\n",
       "      <td>0.856799</td>\n",
       "      <td>0.860236</td>\n",
       "      <td>0.005665</td>\n",
       "      <td>11</td>\n",
       "    </tr>\n",
       "    <tr>\n",
       "      <th>2</th>\n",
       "      <td>0.005984</td>\n",
       "      <td>0.001093</td>\n",
       "      <td>0.001197</td>\n",
       "      <td>0.000398</td>\n",
       "      <td>43</td>\n",
       "      <td>0.000250637</td>\n",
       "      <td>12</td>\n",
       "      <td>14</td>\n",
       "      <td>{'max_depth': 43, 'min_impurity_decrease': 0.0...</td>\n",
       "      <td>0.871394</td>\n",
       "      <td>0.841346</td>\n",
       "      <td>0.856799</td>\n",
       "      <td>0.845969</td>\n",
       "      <td>0.866426</td>\n",
       "      <td>0.856387</td>\n",
       "      <td>0.011497</td>\n",
       "      <td>89</td>\n",
       "    </tr>\n",
       "    <tr>\n",
       "      <th>3</th>\n",
       "      <td>0.006780</td>\n",
       "      <td>0.003116</td>\n",
       "      <td>0.001197</td>\n",
       "      <td>0.000398</td>\n",
       "      <td>48</td>\n",
       "      <td>0.000975933</td>\n",
       "      <td>17</td>\n",
       "      <td>7</td>\n",
       "      <td>{'max_depth': 48, 'min_impurity_decrease': 0.0...</td>\n",
       "      <td>0.872596</td>\n",
       "      <td>0.854567</td>\n",
       "      <td>0.867629</td>\n",
       "      <td>0.849579</td>\n",
       "      <td>0.856799</td>\n",
       "      <td>0.860234</td>\n",
       "      <td>0.008544</td>\n",
       "      <td>16</td>\n",
       "    </tr>\n",
       "    <tr>\n",
       "      <th>4</th>\n",
       "      <td>0.005585</td>\n",
       "      <td>0.001739</td>\n",
       "      <td>0.001396</td>\n",
       "      <td>0.000796</td>\n",
       "      <td>36</td>\n",
       "      <td>0.000812702</td>\n",
       "      <td>23</td>\n",
       "      <td>17</td>\n",
       "      <td>{'max_depth': 36, 'min_impurity_decrease': 0.0...</td>\n",
       "      <td>0.867788</td>\n",
       "      <td>0.855769</td>\n",
       "      <td>0.867629</td>\n",
       "      <td>0.845969</td>\n",
       "      <td>0.855596</td>\n",
       "      <td>0.858550</td>\n",
       "      <td>0.008277</td>\n",
       "      <td>55</td>\n",
       "    </tr>\n",
       "  </tbody>\n",
       "</table>\n",
       "</div>"
      ],
      "text/plain": [
       "   mean_fit_time  std_fit_time  mean_score_time  std_score_time  \\\n",
       "0       0.005585      0.000798         0.001397        0.000489   \n",
       "1       0.005783      0.000747         0.001596        0.000799   \n",
       "2       0.005984      0.001093         0.001197        0.000398   \n",
       "3       0.006780      0.003116         0.001197        0.000398   \n",
       "4       0.005585      0.001739         0.001396        0.000796   \n",
       "\n",
       "  param_max_depth param_min_impurity_decrease param_min_samples_leaf  \\\n",
       "0              35                 0.000597664                     22   \n",
       "1              40                 0.000885359                     16   \n",
       "2              43                 0.000250637                     12   \n",
       "3              48                 0.000975933                     17   \n",
       "4              36                 0.000812702                     23   \n",
       "\n",
       "  param_min_samples_split                                             params  \\\n",
       "0                      14  {'max_depth': 35, 'min_impurity_decrease': 0.0...   \n",
       "1                      19  {'max_depth': 40, 'min_impurity_decrease': 0.0...   \n",
       "2                      14  {'max_depth': 43, 'min_impurity_decrease': 0.0...   \n",
       "3                       7  {'max_depth': 48, 'min_impurity_decrease': 0.0...   \n",
       "4                      17  {'max_depth': 36, 'min_impurity_decrease': 0.0...   \n",
       "\n",
       "   split0_test_score  split1_test_score  split2_test_score  split3_test_score  \\\n",
       "0           0.866587           0.853365           0.865223           0.850782   \n",
       "1           0.866587           0.854567           0.867629           0.855596   \n",
       "2           0.871394           0.841346           0.856799           0.845969   \n",
       "3           0.872596           0.854567           0.867629           0.849579   \n",
       "4           0.867788           0.855769           0.867629           0.845969   \n",
       "\n",
       "   split4_test_score  mean_test_score  std_test_score  rank_test_score  \n",
       "0           0.858002         0.858792        0.006266               45  \n",
       "1           0.856799         0.860236        0.005665               11  \n",
       "2           0.866426         0.856387        0.011497               89  \n",
       "3           0.856799         0.860234        0.008544               16  \n",
       "4           0.855596         0.858550        0.008277               55  "
      ]
     },
     "execution_count": 31,
     "metadata": {},
     "output_type": "execute_result"
    }
   ],
   "source": [
    "pd.DataFrame(gs.cv_results_).head()"
   ]
  },
  {
   "cell_type": "code",
   "execution_count": 32,
   "metadata": {},
   "outputs": [
    {
     "name": "stdout",
     "output_type": "stream",
     "text": [
      "Max Mean Test Score: 0.8619\n"
     ]
    }
   ],
   "source": [
    "print('Max Mean Test Score:', gs.cv_results_['mean_test_score'].max().round(4))"
   ]
  },
  {
   "cell_type": "code",
   "execution_count": 33,
   "metadata": {},
   "outputs": [
    {
     "name": "stdout",
     "output_type": "stream",
     "text": [
      "R Score (Train Set): 0.8756\n",
      "R Score (Test Set): 0.8646\n"
     ]
    }
   ],
   "source": [
    "dt = gs.best_estimator_\n",
    "\n",
    "print('R Score (Train Set):', dt.score(train_input, train_target).round(4))\n",
    "print('R Score (Test Set):', dt.score(test_input, test_target).round(4))"
   ]
  }
 ],
 "metadata": {
  "kernelspec": {
   "display_name": "Python 3",
   "language": "python",
   "name": "python3"
  },
  "language_info": {
   "codemirror_mode": {
    "name": "ipython",
    "version": 3
   },
   "file_extension": ".py",
   "mimetype": "text/x-python",
   "name": "python",
   "nbconvert_exporter": "python",
   "pygments_lexer": "ipython3",
   "version": "3.8.5"
  }
 },
 "nbformat": 4,
 "nbformat_minor": 4
}
