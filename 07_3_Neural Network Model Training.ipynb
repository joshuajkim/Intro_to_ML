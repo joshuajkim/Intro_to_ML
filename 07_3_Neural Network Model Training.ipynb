{
 "cells": [
  {
   "cell_type": "code",
   "execution_count": 44,
   "metadata": {},
   "outputs": [],
   "source": [
    "from sklearn.model_selection import train_test_split\n",
    "\n",
    "from tensorflow.keras.datasets import fashion_mnist\n",
    "from tensorflow.keras import Sequential\n",
    "from tensorflow.keras.layers import Flatten, Dense, Dropout\n",
    "\n",
    "from tensorflow.keras.callbacks import ModelCheckpoint, EarlyStopping\n",
    "\n",
    "import numpy as np\n",
    "import pandas as pd\n",
    "import matplotlib.pyplot as plt"
   ]
  },
  {
   "cell_type": "code",
   "execution_count": 3,
   "metadata": {},
   "outputs": [
    {
     "name": "stdout",
     "output_type": "stream",
     "text": [
      "(48000, 28, 28) (48000,)\n",
      "(12000, 28, 28) (12000,)\n",
      "(10000, 28, 28) (10000,)\n"
     ]
    }
   ],
   "source": [
    "(train_input, train_target), (test_input, test_target) =\\\n",
    "    fashion_mnist.load_data()\n",
    "\n",
    "train_input_scaled = train_input / 255.0\n",
    "test_input_scaled = test_input / 255.0\n",
    "\n",
    "train_input_scaled, val_input_scaled, train_target, val_target =\\\n",
    "    train_test_split(train_input_scaled, train_target, test_size=0.2, random_state=1234)\n",
    "\n",
    "print(train_input_scaled.shape, train_target.shape)\n",
    "print(val_input_scaled.shape, val_target.shape)\n",
    "print(test_input_scaled.shape, test_target.shape)"
   ]
  },
  {
   "cell_type": "code",
   "execution_count": 5,
   "metadata": {},
   "outputs": [],
   "source": [
    "def CreateModel(a_layer=None):\n",
    "    \n",
    "    model = Sequential()\n",
    "    model.add(Flatten(input_shape=(28, 28)))\n",
    "    model.add(Dense(100, activation='relu'))\n",
    "    if a_layer:\n",
    "        model.add(a_layer)\n",
    "    model.add(Dense(10, activation='softmax'))\n",
    "    \n",
    "    return model"
   ]
  },
  {
   "cell_type": "code",
   "execution_count": 6,
   "metadata": {},
   "outputs": [
    {
     "name": "stdout",
     "output_type": "stream",
     "text": [
      "Model: \"sequential\"\n",
      "_________________________________________________________________\n",
      "Layer (type)                 Output Shape              Param #   \n",
      "=================================================================\n",
      "flatten (Flatten)            (None, 784)               0         \n",
      "_________________________________________________________________\n",
      "dense (Dense)                (None, 100)               78500     \n",
      "_________________________________________________________________\n",
      "dense_1 (Dense)              (None, 10)                1010      \n",
      "=================================================================\n",
      "Total params: 79,510\n",
      "Trainable params: 79,510\n",
      "Non-trainable params: 0\n",
      "_________________________________________________________________\n"
     ]
    }
   ],
   "source": [
    "model = CreateModel()\n",
    "model.summary()"
   ]
  },
  {
   "cell_type": "markdown",
   "metadata": {},
   "source": [
    "## Training with epochs=5"
   ]
  },
  {
   "cell_type": "code",
   "execution_count": 7,
   "metadata": {},
   "outputs": [],
   "source": [
    "model.compile(\n",
    "    loss='sparse_categorical_crossentropy',\n",
    "    metrics='accuracy'\n",
    ")\n",
    "\n",
    "history = model.fit(\n",
    "    train_input_scaled,\n",
    "    train_target,\n",
    "    epochs=5,\n",
    "    verbose=0\n",
    ")"
   ]
  },
  {
   "cell_type": "code",
   "execution_count": 9,
   "metadata": {},
   "outputs": [
    {
     "data": {
      "text/html": [
       "<div>\n",
       "<style scoped>\n",
       "    .dataframe tbody tr th:only-of-type {\n",
       "        vertical-align: middle;\n",
       "    }\n",
       "\n",
       "    .dataframe tbody tr th {\n",
       "        vertical-align: top;\n",
       "    }\n",
       "\n",
       "    .dataframe thead th {\n",
       "        text-align: right;\n",
       "    }\n",
       "</style>\n",
       "<table border=\"1\" class=\"dataframe\">\n",
       "  <thead>\n",
       "    <tr style=\"text-align: right;\">\n",
       "      <th></th>\n",
       "      <th>loss</th>\n",
       "      <th>accuracy</th>\n",
       "    </tr>\n",
       "  </thead>\n",
       "  <tbody>\n",
       "    <tr>\n",
       "      <th>0</th>\n",
       "      <td>0.534757</td>\n",
       "      <td>0.812292</td>\n",
       "    </tr>\n",
       "    <tr>\n",
       "      <th>1</th>\n",
       "      <td>0.392563</td>\n",
       "      <td>0.859833</td>\n",
       "    </tr>\n",
       "    <tr>\n",
       "      <th>2</th>\n",
       "      <td>0.355268</td>\n",
       "      <td>0.871979</td>\n",
       "    </tr>\n",
       "    <tr>\n",
       "      <th>3</th>\n",
       "      <td>0.336822</td>\n",
       "      <td>0.881542</td>\n",
       "    </tr>\n",
       "    <tr>\n",
       "      <th>4</th>\n",
       "      <td>0.324159</td>\n",
       "      <td>0.887250</td>\n",
       "    </tr>\n",
       "  </tbody>\n",
       "</table>\n",
       "</div>"
      ],
      "text/plain": [
       "       loss  accuracy\n",
       "0  0.534757  0.812292\n",
       "1  0.392563  0.859833\n",
       "2  0.355268  0.871979\n",
       "3  0.336822  0.881542\n",
       "4  0.324159  0.887250"
      ]
     },
     "execution_count": 9,
     "metadata": {},
     "output_type": "execute_result"
    }
   ],
   "source": [
    "history_df = pd.DataFrame(history.history)\n",
    "history_df"
   ]
  },
  {
   "cell_type": "code",
   "execution_count": 11,
   "metadata": {},
   "outputs": [
    {
     "data": {
      "image/png": "[encoded data removed]",
      "text/plain": [
       "<Figure size 432x288 with 1 Axes>"
      ]
     },
     "metadata": {
      "needs_background": "light"
     },
     "output_type": "display_data"
    },
    {
     "data": {
      "text/plain": [
       "''"
      ]
     },
     "execution_count": 11,
     "metadata": {},
     "output_type": "execute_result"
    }
   ],
   "source": [
    "plt.plot(history_df['loss'])\n",
    "\n",
    "plt.title('History: Loss')\n",
    "plt.xlabel('epoch')\n",
    "plt.ylabel('loss')\n",
    "\n",
    "plt.show()\n",
    ";"
   ]
  },
  {
   "cell_type": "code",
   "execution_count": 13,
   "metadata": {},
   "outputs": [
    {
     "data": {
      "image/png": "[encoded data removed]",
      "text/plain": [
       "<Figure size 432x288 with 1 Axes>"
      ]
     },
     "metadata": {
      "needs_background": "light"
     },
     "output_type": "display_data"
    },
    {
     "data": {
      "text/plain": [
       "''"
      ]
     },
     "execution_count": 13,
     "metadata": {},
     "output_type": "execute_result"
    }
   ],
   "source": [
    "plt.plot(history_df['accuracy'])\n",
    "\n",
    "plt.title('History: Accuracy')\n",
    "plt.xlabel('epoch')\n",
    "plt.ylabel('accuracy')\n",
    "\n",
    "plt.show()\n",
    ";"
   ]
  },
  {
   "cell_type": "markdown",
   "metadata": {},
   "source": [
    "## Training with epochs=20"
   ]
  },
  {
   "cell_type": "code",
   "execution_count": 14,
   "metadata": {},
   "outputs": [],
   "source": [
    "model = CreateModel()\n",
    "model.compile(\n",
    "    loss='sparse_categorical_crossentropy',\n",
    "    metrics='accuracy'\n",
    ")\n",
    "\n",
    "history = model.fit(\n",
    "    train_input_scaled,\n",
    "    train_target,\n",
    "    epochs=20,\n",
    "    verbose=0\n",
    ")\n",
    "\n",
    "history_df = pd.DataFrame(history.history)"
   ]
  },
  {
   "cell_type": "code",
   "execution_count": 15,
   "metadata": {},
   "outputs": [
    {
     "data": {
      "image/png": "[encoded data removed]",
      "text/plain": [
       "<Figure size 432x288 with 1 Axes>"
      ]
     },
     "metadata": {
      "needs_background": "light"
     },
     "output_type": "display_data"
    },
    {
     "data": {
      "text/plain": [
       "''"
      ]
     },
     "execution_count": 15,
     "metadata": {},
     "output_type": "execute_result"
    }
   ],
   "source": [
    "plt.plot(history_df['loss'])\n",
    "\n",
    "plt.title('History: Loss')\n",
    "plt.xlabel('epoch')\n",
    "plt.ylabel('loss')\n",
    "\n",
    "plt.show()\n",
    ";"
   ]
  },
  {
   "cell_type": "code",
   "execution_count": 16,
   "metadata": {},
   "outputs": [
    {
     "data": {
      "image/png": "[encoded data removed]",
      "text/plain": [
       "<Figure size 432x288 with 1 Axes>"
      ]
     },
     "metadata": {
      "needs_background": "light"
     },
     "output_type": "display_data"
    },
    {
     "data": {
      "text/plain": [
       "''"
      ]
     },
     "execution_count": 16,
     "metadata": {},
     "output_type": "execute_result"
    }
   ],
   "source": [
    "plt.plot(history_df['accuracy'])\n",
    "\n",
    "plt.title('History: Accuracy')\n",
    "plt.xlabel('epoch')\n",
    "plt.ylabel('accuracy')\n",
    "\n",
    "plt.show()\n",
    ";"
   ]
  },
  {
   "cell_type": "markdown",
   "metadata": {},
   "source": [
    "### Overfitting or Underfitting?"
   ]
  },
  {
   "cell_type": "code",
   "execution_count": 17,
   "metadata": {},
   "outputs": [
    {
     "data": {
      "text/html": [
       "<div>\n",
       "<style scoped>\n",
       "    .dataframe tbody tr th:only-of-type {\n",
       "        vertical-align: middle;\n",
       "    }\n",
       "\n",
       "    .dataframe tbody tr th {\n",
       "        vertical-align: top;\n",
       "    }\n",
       "\n",
       "    .dataframe thead th {\n",
       "        text-align: right;\n",
       "    }\n",
       "</style>\n",
       "<table border=\"1\" class=\"dataframe\">\n",
       "  <thead>\n",
       "    <tr style=\"text-align: right;\">\n",
       "      <th></th>\n",
       "      <th>loss</th>\n",
       "      <th>accuracy</th>\n",
       "      <th>val_loss</th>\n",
       "      <th>val_accuracy</th>\n",
       "    </tr>\n",
       "  </thead>\n",
       "  <tbody>\n",
       "    <tr>\n",
       "      <th>0</th>\n",
       "      <td>0.529857</td>\n",
       "      <td>0.812333</td>\n",
       "      <td>0.403903</td>\n",
       "      <td>0.854000</td>\n",
       "    </tr>\n",
       "    <tr>\n",
       "      <th>1</th>\n",
       "      <td>0.390800</td>\n",
       "      <td>0.860313</td>\n",
       "      <td>0.438654</td>\n",
       "      <td>0.841750</td>\n",
       "    </tr>\n",
       "    <tr>\n",
       "      <th>2</th>\n",
       "      <td>0.355671</td>\n",
       "      <td>0.873750</td>\n",
       "      <td>0.399298</td>\n",
       "      <td>0.858500</td>\n",
       "    </tr>\n",
       "    <tr>\n",
       "      <th>3</th>\n",
       "      <td>0.333858</td>\n",
       "      <td>0.881708</td>\n",
       "      <td>0.345466</td>\n",
       "      <td>0.879250</td>\n",
       "    </tr>\n",
       "    <tr>\n",
       "      <th>4</th>\n",
       "      <td>0.321545</td>\n",
       "      <td>0.887021</td>\n",
       "      <td>0.365369</td>\n",
       "      <td>0.868833</td>\n",
       "    </tr>\n",
       "    <tr>\n",
       "      <th>5</th>\n",
       "      <td>0.308704</td>\n",
       "      <td>0.890854</td>\n",
       "      <td>0.349952</td>\n",
       "      <td>0.879667</td>\n",
       "    </tr>\n",
       "    <tr>\n",
       "      <th>6</th>\n",
       "      <td>0.300725</td>\n",
       "      <td>0.894771</td>\n",
       "      <td>0.367097</td>\n",
       "      <td>0.873917</td>\n",
       "    </tr>\n",
       "    <tr>\n",
       "      <th>7</th>\n",
       "      <td>0.294489</td>\n",
       "      <td>0.897313</td>\n",
       "      <td>0.375666</td>\n",
       "      <td>0.874417</td>\n",
       "    </tr>\n",
       "    <tr>\n",
       "      <th>8</th>\n",
       "      <td>0.286058</td>\n",
       "      <td>0.901042</td>\n",
       "      <td>0.381339</td>\n",
       "      <td>0.875250</td>\n",
       "    </tr>\n",
       "    <tr>\n",
       "      <th>9</th>\n",
       "      <td>0.280033</td>\n",
       "      <td>0.903354</td>\n",
       "      <td>0.360122</td>\n",
       "      <td>0.881417</td>\n",
       "    </tr>\n",
       "    <tr>\n",
       "      <th>10</th>\n",
       "      <td>0.272306</td>\n",
       "      <td>0.905771</td>\n",
       "      <td>0.406256</td>\n",
       "      <td>0.871667</td>\n",
       "    </tr>\n",
       "    <tr>\n",
       "      <th>11</th>\n",
       "      <td>0.267971</td>\n",
       "      <td>0.907042</td>\n",
       "      <td>0.418816</td>\n",
       "      <td>0.873917</td>\n",
       "    </tr>\n",
       "    <tr>\n",
       "      <th>12</th>\n",
       "      <td>0.261436</td>\n",
       "      <td>0.909875</td>\n",
       "      <td>0.399578</td>\n",
       "      <td>0.883500</td>\n",
       "    </tr>\n",
       "    <tr>\n",
       "      <th>13</th>\n",
       "      <td>0.259767</td>\n",
       "      <td>0.909396</td>\n",
       "      <td>0.371471</td>\n",
       "      <td>0.884417</td>\n",
       "    </tr>\n",
       "    <tr>\n",
       "      <th>14</th>\n",
       "      <td>0.250378</td>\n",
       "      <td>0.912833</td>\n",
       "      <td>0.392117</td>\n",
       "      <td>0.881167</td>\n",
       "    </tr>\n",
       "    <tr>\n",
       "      <th>15</th>\n",
       "      <td>0.249867</td>\n",
       "      <td>0.913667</td>\n",
       "      <td>0.388480</td>\n",
       "      <td>0.883750</td>\n",
       "    </tr>\n",
       "    <tr>\n",
       "      <th>16</th>\n",
       "      <td>0.239614</td>\n",
       "      <td>0.916854</td>\n",
       "      <td>0.394263</td>\n",
       "      <td>0.883833</td>\n",
       "    </tr>\n",
       "    <tr>\n",
       "      <th>17</th>\n",
       "      <td>0.241682</td>\n",
       "      <td>0.917896</td>\n",
       "      <td>0.410617</td>\n",
       "      <td>0.884583</td>\n",
       "    </tr>\n",
       "    <tr>\n",
       "      <th>18</th>\n",
       "      <td>0.235059</td>\n",
       "      <td>0.919813</td>\n",
       "      <td>0.429690</td>\n",
       "      <td>0.876083</td>\n",
       "    </tr>\n",
       "    <tr>\n",
       "      <th>19</th>\n",
       "      <td>0.232950</td>\n",
       "      <td>0.920479</td>\n",
       "      <td>0.450231</td>\n",
       "      <td>0.883917</td>\n",
       "    </tr>\n",
       "  </tbody>\n",
       "</table>\n",
       "</div>"
      ],
      "text/plain": [
       "        loss  accuracy  val_loss  val_accuracy\n",
       "0   0.529857  0.812333  0.403903      0.854000\n",
       "1   0.390800  0.860313  0.438654      0.841750\n",
       "2   0.355671  0.873750  0.399298      0.858500\n",
       "3   0.333858  0.881708  0.345466      0.879250\n",
       "4   0.321545  0.887021  0.365369      0.868833\n",
       "5   0.308704  0.890854  0.349952      0.879667\n",
       "6   0.300725  0.894771  0.367097      0.873917\n",
       "7   0.294489  0.897313  0.375666      0.874417\n",
       "8   0.286058  0.901042  0.381339      0.875250\n",
       "9   0.280033  0.903354  0.360122      0.881417\n",
       "10  0.272306  0.905771  0.406256      0.871667\n",
       "11  0.267971  0.907042  0.418816      0.873917\n",
       "12  0.261436  0.909875  0.399578      0.883500\n",
       "13  0.259767  0.909396  0.371471      0.884417\n",
       "14  0.250378  0.912833  0.392117      0.881167\n",
       "15  0.249867  0.913667  0.388480      0.883750\n",
       "16  0.239614  0.916854  0.394263      0.883833\n",
       "17  0.241682  0.917896  0.410617      0.884583\n",
       "18  0.235059  0.919813  0.429690      0.876083\n",
       "19  0.232950  0.920479  0.450231      0.883917"
      ]
     },
     "execution_count": 17,
     "metadata": {},
     "output_type": "execute_result"
    }
   ],
   "source": [
    "model = CreateModel()\n",
    "\n",
    "model.compile(\n",
    "    loss='sparse_categorical_crossentropy',\n",
    "    metrics='accuracy'\n",
    ")\n",
    "\n",
    "history = model.fit(\n",
    "    train_input_scaled,\n",
    "    train_target,\n",
    "    epochs=20,\n",
    "    verbose=0,\n",
    "    validation_data=(val_input_scaled, val_target)\n",
    ")\n",
    "\n",
    "history_df = pd.DataFrame(history.history)\n",
    "history_df"
   ]
  },
  {
   "cell_type": "code",
   "execution_count": 18,
   "metadata": {},
   "outputs": [
    {
     "data": {
      "image/png": "[encoded data removed]",
      "text/plain": [
       "<Figure size 432x288 with 1 Axes>"
      ]
     },
     "metadata": {
      "needs_background": "light"
     },
     "output_type": "display_data"
    },
    {
     "data": {
      "text/plain": [
       "''"
      ]
     },
     "execution_count": 18,
     "metadata": {},
     "output_type": "execute_result"
    }
   ],
   "source": [
    "plt.plot(history_df['loss'])\n",
    "plt.plot(history_df['val_loss'])\n",
    "\n",
    "plt.title('Loss: Train vs Val')\n",
    "plt.xlabel('epoch')\n",
    "plt.ylabel('loss')\n",
    "plt.legend(['Train', 'Val'])\n",
    "\n",
    "plt.show()\n",
    ";"
   ]
  },
  {
   "cell_type": "markdown",
   "metadata": {},
   "source": [
    "## Optimizer Hyperparameters!"
   ]
  },
  {
   "cell_type": "markdown",
   "metadata": {},
   "source": [
    "#### Adam"
   ]
  },
  {
   "cell_type": "code",
   "execution_count": 19,
   "metadata": {},
   "outputs": [],
   "source": [
    "model = CreateModel()\n",
    "\n",
    "model.compile(\n",
    "    optimizer='adam',\n",
    "    loss='sparse_categorical_crossentropy',\n",
    "    metrics='accuracy'\n",
    ")\n",
    "\n",
    "history = model.fit(\n",
    "    train_input_scaled,\n",
    "    train_target,\n",
    "    epochs=20,\n",
    "    verbose=0,\n",
    "    validation_data=(val_input_scaled, val_target)\n",
    ")\n",
    "\n",
    "history_df = pd.DataFrame(history.history)"
   ]
  },
  {
   "cell_type": "code",
   "execution_count": 20,
   "metadata": {},
   "outputs": [
    {
     "data": {
      "image/png": "[encoded data removed]",
      "text/plain": [
       "<Figure size 432x288 with 1 Axes>"
      ]
     },
     "metadata": {
      "needs_background": "light"
     },
     "output_type": "display_data"
    },
    {
     "data": {
      "text/plain": [
       "''"
      ]
     },
     "execution_count": 20,
     "metadata": {},
     "output_type": "execute_result"
    }
   ],
   "source": [
    "plt.plot(history_df['loss'])\n",
    "plt.plot(history_df['val_loss'])\n",
    "\n",
    "plt.title('Loss: Train vs Val')\n",
    "plt.xlabel('epoch')\n",
    "plt.ylabel('loss')\n",
    "plt.legend(['Train', 'Val'])\n",
    "\n",
    "plt.show()\n",
    ";"
   ]
  },
  {
   "cell_type": "markdown",
   "metadata": {},
   "source": [
    "#### RMSprop"
   ]
  },
  {
   "cell_type": "code",
   "execution_count": 21,
   "metadata": {},
   "outputs": [],
   "source": [
    "model = CreateModel()\n",
    "\n",
    "model.compile(\n",
    "    optimizer='rmsprop',\n",
    "    loss='sparse_categorical_crossentropy',\n",
    "    metrics='accuracy'\n",
    ")\n",
    "\n",
    "history = model.fit(\n",
    "    train_input_scaled,\n",
    "    train_target,\n",
    "    epochs=20,\n",
    "    verbose=0,\n",
    "    validation_data=(val_input_scaled, val_target)\n",
    ")\n",
    "\n",
    "history_df = pd.DataFrame(history.history)"
   ]
  },
  {
   "cell_type": "code",
   "execution_count": 22,
   "metadata": {},
   "outputs": [
    {
     "data": {
      "image/png": "[encoded data removed]",
      "text/plain": [
       "<Figure size 432x288 with 1 Axes>"
      ]
     },
     "metadata": {
      "needs_background": "light"
     },
     "output_type": "display_data"
    },
    {
     "data": {
      "text/plain": [
       "''"
      ]
     },
     "execution_count": 22,
     "metadata": {},
     "output_type": "execute_result"
    }
   ],
   "source": [
    "plt.plot(history_df['loss'])\n",
    "plt.plot(history_df['val_loss'])\n",
    "\n",
    "plt.title('Loss: Train vs Val')\n",
    "plt.xlabel('epoch')\n",
    "plt.ylabel('loss')\n",
    "plt.legend(['Train', 'Val'])\n",
    "\n",
    "plt.show()\n",
    ";"
   ]
  },
  {
   "cell_type": "markdown",
   "metadata": {},
   "source": [
    "#### Dropout with Adam"
   ]
  },
  {
   "cell_type": "code",
   "execution_count": 24,
   "metadata": {},
   "outputs": [
    {
     "name": "stdout",
     "output_type": "stream",
     "text": [
      "Model: \"sequential_5\"\n",
      "_________________________________________________________________\n",
      "Layer (type)                 Output Shape              Param #   \n",
      "=================================================================\n",
      "flatten_5 (Flatten)          (None, 784)               0         \n",
      "_________________________________________________________________\n",
      "dense_10 (Dense)             (None, 100)               78500     \n",
      "_________________________________________________________________\n",
      "dropout (Dropout)            (None, 100)               0         \n",
      "_________________________________________________________________\n",
      "dense_11 (Dense)             (None, 10)                1010      \n",
      "=================================================================\n",
      "Total params: 79,510\n",
      "Trainable params: 79,510\n",
      "Non-trainable params: 0\n",
      "_________________________________________________________________\n"
     ]
    }
   ],
   "source": [
    "model = CreateModel(Dropout(0.3))\n",
    "model.summary()"
   ]
  },
  {
   "cell_type": "code",
   "execution_count": 25,
   "metadata": {},
   "outputs": [],
   "source": [
    "model.compile(\n",
    "    optimizer='adam',\n",
    "    loss='sparse_categorical_crossentropy',\n",
    "    metrics='accuracy'\n",
    ")\n",
    "\n",
    "history = model.fit(\n",
    "    train_input_scaled,\n",
    "    train_target,\n",
    "    epochs=20,\n",
    "    verbose=0,\n",
    "    validation_data=(val_input_scaled, val_target)\n",
    ")\n",
    "\n",
    "history_df = pd.DataFrame(history.history)"
   ]
  },
  {
   "cell_type": "code",
   "execution_count": 26,
   "metadata": {},
   "outputs": [
    {
     "data": {
      "image/png": "[encoded data removed]",
      "text/plain": [
       "<Figure size 432x288 with 1 Axes>"
      ]
     },
     "metadata": {
      "needs_background": "light"
     },
     "output_type": "display_data"
    },
    {
     "data": {
      "text/plain": [
       "''"
      ]
     },
     "execution_count": 26,
     "metadata": {},
     "output_type": "execute_result"
    }
   ],
   "source": [
    "plt.plot(history_df['loss'])\n",
    "plt.plot(history_df['val_loss'])\n",
    "\n",
    "plt.title('Loss: Train vs Val')\n",
    "plt.xlabel('epoch')\n",
    "plt.ylabel('loss')\n",
    "plt.legend(['Train', 'Val'])\n",
    "\n",
    "plt.show()\n",
    ";"
   ]
  },
  {
   "cell_type": "markdown",
   "metadata": {},
   "source": [
    "## Saving and Retrieving Model"
   ]
  },
  {
   "cell_type": "code",
   "execution_count": 28,
   "metadata": {},
   "outputs": [],
   "source": [
    "model = CreateModel(Dropout(0.3))\n",
    "\n",
    "model.compile(\n",
    "    optimizer='adam',\n",
    "    loss='sparse_categorical_crossentropy',\n",
    "    metrics='accuracy'\n",
    ")\n",
    "\n",
    "history = model.fit(\n",
    "    train_input_scaled,\n",
    "    train_target,\n",
    "    epochs=10,\n",
    "    verbose=0,\n",
    "    validation_data=(val_input_scaled, val_target)\n",
    ")\n",
    "\n",
    "history_df = pd.DataFrame(history.history)"
   ]
  },
  {
   "cell_type": "code",
   "execution_count": 29,
   "metadata": {},
   "outputs": [],
   "source": [
    "# Save all the parameters\n",
    "model.save_weights('model-weights.h5')\n",
    "# Save both of model structure and all the parameters\n",
    "model.save('model-whole.h5')"
   ]
  },
  {
   "cell_type": "code",
   "execution_count": 30,
   "metadata": {},
   "outputs": [
    {
     "name": "stdout",
     "output_type": "stream",
     "text": [
      "best-model.h5\n",
      "model-weights.h5\n",
      "model-whole.h5\n"
     ]
    }
   ],
   "source": [
    "# Check out if the files are saved properly!\n",
    "from os import listdir\n",
    "\n",
    "dir_list = listdir()\n",
    "\n",
    "for element in dir_list:\n",
    "    if element[-3:] == '.h5':\n",
    "        print(element)"
   ]
  },
  {
   "cell_type": "markdown",
   "metadata": {},
   "source": [
    "#### Evaluating with 'model-weights.h5'"
   ]
  },
  {
   "cell_type": "code",
   "execution_count": 31,
   "metadata": {},
   "outputs": [],
   "source": [
    "model = CreateModel(Dropout(0.3))\n",
    "model.load_weights('model-weights.h5')"
   ]
  },
  {
   "cell_type": "code",
   "execution_count": 32,
   "metadata": {},
   "outputs": [
    {
     "data": {
      "text/plain": [
       "(12000, 10)"
      ]
     },
     "execution_count": 32,
     "metadata": {},
     "output_type": "execute_result"
    }
   ],
   "source": [
    "# Keep in mind that shown belos is 12,000 X 10 matrix\n",
    "\n",
    "model.predict(val_input_scaled).shape"
   ]
  },
  {
   "cell_type": "code",
   "execution_count": 35,
   "metadata": {},
   "outputs": [
    {
     "data": {
      "text/plain": [
       "(12000,)"
      ]
     },
     "execution_count": 35,
     "metadata": {},
     "output_type": "execute_result"
    }
   ],
   "source": [
    "# Extract the index of the Max Predicted Target from every validate input\n",
    "val_pred = np.argmax(model.predict(val_input_scaled), axis=1)\n",
    "val_pred.shape"
   ]
  },
  {
   "cell_type": "code",
   "execution_count": 36,
   "metadata": {},
   "outputs": [
    {
     "name": "stdout",
     "output_type": "stream",
     "text": [
      "Score: 0.8789166666666667\n"
     ]
    }
   ],
   "source": [
    "# Take out the % of accurately predicted items!\n",
    "\n",
    "print('Score:', np.mean(val_pred == val_target))"
   ]
  },
  {
   "cell_type": "markdown",
   "metadata": {},
   "source": [
    "#### Evaluating with 'model-whole.h5'"
   ]
  },
  {
   "cell_type": "code",
   "execution_count": 39,
   "metadata": {},
   "outputs": [
    {
     "name": "stdout",
     "output_type": "stream",
     "text": [
      "375/375 [==============================] - 0s 928us/step - loss: 0.3352 - accuracy: 0.8789\n"
     ]
    },
    {
     "data": {
      "text/plain": [
       "[0.3352169394493103, 0.8789166808128357]"
      ]
     },
     "execution_count": 39,
     "metadata": {},
     "output_type": "execute_result"
    }
   ],
   "source": [
    "from tensorflow.keras.models import load_model\n",
    "\n",
    "model = load_model('model-whole.h5')\n",
    "model.evaluate(val_input_scaled, val_target)"
   ]
  },
  {
   "cell_type": "markdown",
   "metadata": {},
   "source": [
    "## Callback: ModelCheckpoint"
   ]
  },
  {
   "cell_type": "code",
   "execution_count": 42,
   "metadata": {},
   "outputs": [
    {
     "data": {
      "text/plain": [
       "<tensorflow.python.keras.callbacks.History at 0x1cd53015b50>"
      ]
     },
     "execution_count": 42,
     "metadata": {},
     "output_type": "execute_result"
    }
   ],
   "source": [
    "model = CreateModel(Dropout(0.3))\n",
    "model.compile(\n",
    "    optimizer='adam',\n",
    "    loss='sparse_categorical_crossentropy',\n",
    "    metrics='accuracy'\n",
    ")\n",
    "\n",
    "modelCKP = ModelCheckpoint('best-model.h5')\n",
    "\n",
    "model.fit(\n",
    "    train_input_scaled,\n",
    "    train_target,\n",
    "    epochs=20,\n",
    "    verbose=0,\n",
    "    validation_data=(val_input_scaled, val_target),\n",
    "    callbacks=[modelCKP]\n",
    ")"
   ]
  },
  {
   "cell_type": "code",
   "execution_count": 43,
   "metadata": {},
   "outputs": [
    {
     "name": "stdout",
     "output_type": "stream",
     "text": [
      "375/375 [==============================] - 0s 950us/step - loss: 0.3304 - accuracy: 0.8811\n"
     ]
    },
    {
     "data": {
      "text/plain": [
       "[0.33035504817962646, 0.8810833096504211]"
      ]
     },
     "execution_count": 43,
     "metadata": {},
     "output_type": "execute_result"
    }
   ],
   "source": [
    "model = load_model('best-model.h5')\n",
    "model.evaluate(val_input_scaled, val_target)"
   ]
  },
  {
   "cell_type": "markdown",
   "metadata": {},
   "source": [
    "## Callback: ModelCheckpoint + EarlyStopping"
   ]
  },
  {
   "cell_type": "code",
   "execution_count": 45,
   "metadata": {},
   "outputs": [],
   "source": [
    "model = CreateModel(Dropout(0.3))\n",
    "\n",
    "model.compile(\n",
    "    optimizer='adam',\n",
    "    loss='sparse_categorical_crossentropy',\n",
    "    metrics='accuracy'\n",
    ")\n",
    "\n",
    "modelCKP = ModelCheckpoint('best-model.h5')\n",
    "earlySTP = EarlyStopping(patience=2, restore_best_weights=True)\n",
    "\n",
    "history = model.fit(\n",
    "    train_input_scaled,\n",
    "    train_target,\n",
    "    epochs=20,\n",
    "    verbose=0,\n",
    "    validation_data=(val_input_scaled, val_target),\n",
    "    callbacks=[modelCKP, earlySTP]\n",
    ")"
   ]
  },
  {
   "cell_type": "code",
   "execution_count": 46,
   "metadata": {},
   "outputs": [
    {
     "name": "stdout",
     "output_type": "stream",
     "text": [
      "11\n"
     ]
    }
   ],
   "source": [
    "# Stopped Epoch\n",
    "print(earlySTP.stopped_epoch)"
   ]
  },
  {
   "cell_type": "code",
   "execution_count": 47,
   "metadata": {},
   "outputs": [
    {
     "data": {
      "text/html": [
       "<div>\n",
       "<style scoped>\n",
       "    .dataframe tbody tr th:only-of-type {\n",
       "        vertical-align: middle;\n",
       "    }\n",
       "\n",
       "    .dataframe tbody tr th {\n",
       "        vertical-align: top;\n",
       "    }\n",
       "\n",
       "    .dataframe thead th {\n",
       "        text-align: right;\n",
       "    }\n",
       "</style>\n",
       "<table border=\"1\" class=\"dataframe\">\n",
       "  <thead>\n",
       "    <tr style=\"text-align: right;\">\n",
       "      <th></th>\n",
       "      <th>loss</th>\n",
       "      <th>accuracy</th>\n",
       "      <th>val_loss</th>\n",
       "      <th>val_accuracy</th>\n",
       "    </tr>\n",
       "  </thead>\n",
       "  <tbody>\n",
       "    <tr>\n",
       "      <th>0</th>\n",
       "      <td>0.594527</td>\n",
       "      <td>0.790688</td>\n",
       "      <td>0.476112</td>\n",
       "      <td>0.825417</td>\n",
       "    </tr>\n",
       "    <tr>\n",
       "      <th>1</th>\n",
       "      <td>0.443536</td>\n",
       "      <td>0.841563</td>\n",
       "      <td>0.419180</td>\n",
       "      <td>0.843583</td>\n",
       "    </tr>\n",
       "    <tr>\n",
       "      <th>2</th>\n",
       "      <td>0.406461</td>\n",
       "      <td>0.853646</td>\n",
       "      <td>0.376189</td>\n",
       "      <td>0.861083</td>\n",
       "    </tr>\n",
       "    <tr>\n",
       "      <th>3</th>\n",
       "      <td>0.382957</td>\n",
       "      <td>0.859042</td>\n",
       "      <td>0.373701</td>\n",
       "      <td>0.861917</td>\n",
       "    </tr>\n",
       "    <tr>\n",
       "      <th>4</th>\n",
       "      <td>0.368433</td>\n",
       "      <td>0.864583</td>\n",
       "      <td>0.355329</td>\n",
       "      <td>0.867083</td>\n",
       "    </tr>\n",
       "    <tr>\n",
       "      <th>5</th>\n",
       "      <td>0.354747</td>\n",
       "      <td>0.869729</td>\n",
       "      <td>0.339146</td>\n",
       "      <td>0.875833</td>\n",
       "    </tr>\n",
       "    <tr>\n",
       "      <th>6</th>\n",
       "      <td>0.343963</td>\n",
       "      <td>0.872292</td>\n",
       "      <td>0.338287</td>\n",
       "      <td>0.875417</td>\n",
       "    </tr>\n",
       "    <tr>\n",
       "      <th>7</th>\n",
       "      <td>0.335055</td>\n",
       "      <td>0.877354</td>\n",
       "      <td>0.342116</td>\n",
       "      <td>0.869833</td>\n",
       "    </tr>\n",
       "    <tr>\n",
       "      <th>8</th>\n",
       "      <td>0.327088</td>\n",
       "      <td>0.879146</td>\n",
       "      <td>0.324649</td>\n",
       "      <td>0.878750</td>\n",
       "    </tr>\n",
       "    <tr>\n",
       "      <th>9</th>\n",
       "      <td>0.319355</td>\n",
       "      <td>0.879854</td>\n",
       "      <td>0.321126</td>\n",
       "      <td>0.881833</td>\n",
       "    </tr>\n",
       "    <tr>\n",
       "      <th>10</th>\n",
       "      <td>0.313419</td>\n",
       "      <td>0.882438</td>\n",
       "      <td>0.334596</td>\n",
       "      <td>0.876833</td>\n",
       "    </tr>\n",
       "    <tr>\n",
       "      <th>11</th>\n",
       "      <td>0.309614</td>\n",
       "      <td>0.886000</td>\n",
       "      <td>0.344544</td>\n",
       "      <td>0.873250</td>\n",
       "    </tr>\n",
       "  </tbody>\n",
       "</table>\n",
       "</div>"
      ],
      "text/plain": [
       "        loss  accuracy  val_loss  val_accuracy\n",
       "0   0.594527  0.790688  0.476112      0.825417\n",
       "1   0.443536  0.841563  0.419180      0.843583\n",
       "2   0.406461  0.853646  0.376189      0.861083\n",
       "3   0.382957  0.859042  0.373701      0.861917\n",
       "4   0.368433  0.864583  0.355329      0.867083\n",
       "5   0.354747  0.869729  0.339146      0.875833\n",
       "6   0.343963  0.872292  0.338287      0.875417\n",
       "7   0.335055  0.877354  0.342116      0.869833\n",
       "8   0.327088  0.879146  0.324649      0.878750\n",
       "9   0.319355  0.879854  0.321126      0.881833\n",
       "10  0.313419  0.882438  0.334596      0.876833\n",
       "11  0.309614  0.886000  0.344544      0.873250"
      ]
     },
     "execution_count": 47,
     "metadata": {},
     "output_type": "execute_result"
    }
   ],
   "source": [
    "history_df = pd.DataFrame(history.history)\n",
    "history_df"
   ]
  },
  {
   "cell_type": "code",
   "execution_count": 48,
   "metadata": {},
   "outputs": [
    {
     "data": {
      "image/png": "[encoded data removed]",
      "text/plain": [
       "<Figure size 432x288 with 1 Axes>"
      ]
     },
     "metadata": {
      "needs_background": "light"
     },
     "output_type": "display_data"
    },
    {
     "data": {
      "text/plain": [
       "''"
      ]
     },
     "execution_count": 48,
     "metadata": {},
     "output_type": "execute_result"
    }
   ],
   "source": [
    "plt.plot(history_df['loss'])\n",
    "plt.plot(history_df['val_loss'])\n",
    "\n",
    "plt.title('Loss: Train vs Val')\n",
    "plt.xlabel('epoch')\n",
    "plt.ylabel('loss')\n",
    "plt.legend(['Train', 'Val'])\n",
    "\n",
    "plt.show()\n",
    ";"
   ]
  },
  {
   "cell_type": "code",
   "execution_count": 50,
   "metadata": {},
   "outputs": [
    {
     "name": "stdout",
     "output_type": "stream",
     "text": [
      "375/375 [==============================] - 0s 887us/step - loss: 0.3211 - accuracy: 0.8818\n"
     ]
    },
    {
     "data": {
      "text/plain": [
       "[0.3211261034011841, 0.8818333148956299]"
      ]
     },
     "execution_count": 50,
     "metadata": {},
     "output_type": "execute_result"
    }
   ],
   "source": [
    "model.evaluate(val_input_scaled, val_target)"
   ]
  }
 ],
 "metadata": {
  "kernelspec": {
   "display_name": "Python 3",
   "language": "python",
   "name": "python3"
  },
  "language_info": {
   "codemirror_mode": {
    "name": "ipython",
    "version": 3
   },
   "file_extension": ".py",
   "mimetype": "text/x-python",
   "name": "python",
   "nbconvert_exporter": "python",
   "pygments_lexer": "ipython3",
   "version": "3.8.5"
  }
 },
 "nbformat": 4,
 "nbformat_minor": 4
}
