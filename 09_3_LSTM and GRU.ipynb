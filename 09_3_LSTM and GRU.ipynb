{
 "cells": [
  {
   "cell_type": "code",
   "execution_count": 25,
   "metadata": {},
   "outputs": [],
   "source": [
    "from tensorflow.keras.datasets import imdb\n",
    "from tensorflow.keras.models import load_model\n",
    "from tensorflow.keras.preprocessing.sequence import pad_sequences\n",
    "from tensorflow.keras import Sequential\n",
    "from tensorflow.keras.layers import Dense, Embedding, LSTM, GRU\n",
    "from tensorflow.keras.optimizers import RMSprop\n",
    "from tensorflow.keras.callbacks import ModelCheckpoint, EarlyStopping\n",
    "\n",
    "from sklearn.model_selection import train_test_split\n",
    "\n",
    "import numpy as np\n",
    "import pandas as pd\n",
    "import matplotlib.pyplot as plt"
   ]
  },
  {
   "cell_type": "code",
   "execution_count": 2,
   "metadata": {},
   "outputs": [
    {
     "name": "stderr",
     "output_type": "stream",
     "text": [
      "<__array_function__ internals>:5: VisibleDeprecationWarning: Creating an ndarray from ragged nested sequences (which is a list-or-tuple of lists-or-tuples-or ndarrays with different lengths or shapes) is deprecated. If you meant to do this, you must specify 'dtype=object' when creating the ndarray\n",
      "C:\\Users\\Joshua Jinseok Kim\\AppData\\Roaming\\Python\\Python38\\site-packages\\tensorflow\\python\\keras\\datasets\\imdb.py:159: VisibleDeprecationWarning: Creating an ndarray from ragged nested sequences (which is a list-or-tuple of lists-or-tuples-or ndarrays with different lengths or shapes) is deprecated. If you meant to do this, you must specify 'dtype=object' when creating the ndarray\n",
      "  x_train, y_train = np.array(xs[:idx]), np.array(labels[:idx])\n"
     ]
    },
    {
     "name": "stdout",
     "output_type": "stream",
     "text": [
      "(20000,) (20000,)\n",
      "(5000,) (5000,)\n",
      "(25000,) (25000,)\n"
     ]
    },
    {
     "name": "stderr",
     "output_type": "stream",
     "text": [
      "C:\\Users\\Joshua Jinseok Kim\\AppData\\Roaming\\Python\\Python38\\site-packages\\tensorflow\\python\\keras\\datasets\\imdb.py:160: VisibleDeprecationWarning: Creating an ndarray from ragged nested sequences (which is a list-or-tuple of lists-or-tuples-or ndarrays with different lengths or shapes) is deprecated. If you meant to do this, you must specify 'dtype=object' when creating the ndarray\n",
      "  x_test, y_test = np.array(xs[idx:]), np.array(labels[idx:])\n"
     ]
    }
   ],
   "source": [
    "(train_input, train_target), (test_input, test_target) = \\\n",
    "    imdb.load_data(num_words=500)\n",
    "\n",
    "train_input, val_input, train_target, val_target = \\\n",
    "    train_test_split(train_input, train_target, test_size=0.2, random_state=1234)\n",
    "\n",
    "print(train_input.shape, train_target.shape)\n",
    "print(val_input.shape, val_target.shape)\n",
    "print(test_input.shape, test_target.shape)"
   ]
  },
  {
   "cell_type": "code",
   "execution_count": 4,
   "metadata": {},
   "outputs": [
    {
     "name": "stdout",
     "output_type": "stream",
     "text": [
      "(20000, 100) (5000, 100)\n"
     ]
    }
   ],
   "source": [
    "train_seq = pad_sequences(train_input, maxlen=100)\n",
    "val_seq = pad_sequences(val_input, maxlen=100)\n",
    "\n",
    "print(train_seq.shape, val_seq.shape)"
   ]
  },
  {
   "cell_type": "code",
   "execution_count": 6,
   "metadata": {},
   "outputs": [
    {
     "name": "stdout",
     "output_type": "stream",
     "text": [
      "Model: \"sequential\"\n",
      "_________________________________________________________________\n",
      "Layer (type)                 Output Shape              Param #   \n",
      "=================================================================\n",
      "embedding (Embedding)        (None, 100, 16)           8000      \n",
      "_________________________________________________________________\n",
      "lstm (LSTM)                  (None, 8)                 800       \n",
      "_________________________________________________________________\n",
      "dense (Dense)                (None, 1)                 9         \n",
      "=================================================================\n",
      "Total params: 8,809\n",
      "Trainable params: 8,809\n",
      "Non-trainable params: 0\n",
      "_________________________________________________________________\n"
     ]
    }
   ],
   "source": [
    "model = Sequential()\n",
    "model.add(Embedding(500, 16, input_length=100))\n",
    "model.add(LSTM(8))\n",
    "model.add(Dense(1, activation='sigmoid'))\n",
    "\n",
    "model.summary()"
   ]
  },
  {
   "cell_type": "code",
   "execution_count": 10,
   "metadata": {
    "scrolled": true
   },
   "outputs": [
    {
     "name": "stdout",
     "output_type": "stream",
     "text": [
      "Epoch 1/50\n",
      "313/313 [==============================] - 13s 34ms/step - loss: 0.6930 - accuracy: 0.5077 - val_loss: 0.6924 - val_accuracy: 0.5454\n",
      "Epoch 2/50\n",
      "313/313 [==============================] - 8s 27ms/step - loss: 0.6921 - accuracy: 0.5656 - val_loss: 0.6910 - val_accuracy: 0.5772\n",
      "Epoch 3/50\n",
      "313/313 [==============================] - 9s 28ms/step - loss: 0.6903 - accuracy: 0.5946 - val_loss: 0.6878 - val_accuracy: 0.5898\n",
      "Epoch 4/50\n",
      "313/313 [==============================] - 9s 27ms/step - loss: 0.6855 - accuracy: 0.5931 - val_loss: 0.6787 - val_accuracy: 0.6218\n",
      "Epoch 5/50\n",
      "313/313 [==============================] - 9s 27ms/step - loss: 0.6702 - accuracy: 0.6296 - val_loss: 0.6334 - val_accuracy: 0.7164\n",
      "Epoch 6/50\n",
      "313/313 [==============================] - 9s 27ms/step - loss: 0.6180 - accuracy: 0.7196 - val_loss: 0.5983 - val_accuracy: 0.7332\n",
      "Epoch 7/50\n",
      "313/313 [==============================] - 9s 28ms/step - loss: 0.5891 - accuracy: 0.7443 - val_loss: 0.5827 - val_accuracy: 0.7384\n",
      "Epoch 8/50\n",
      "313/313 [==============================] - 9s 28ms/step - loss: 0.5762 - accuracy: 0.7505 - val_loss: 0.5674 - val_accuracy: 0.7486\n",
      "Epoch 9/50\n",
      "313/313 [==============================] - 9s 28ms/step - loss: 0.5580 - accuracy: 0.7614 - val_loss: 0.5544 - val_accuracy: 0.7596\n",
      "Epoch 10/50\n",
      "313/313 [==============================] - 9s 27ms/step - loss: 0.5412 - accuracy: 0.7742 - val_loss: 0.5419 - val_accuracy: 0.7618\n",
      "Epoch 11/50\n",
      "313/313 [==============================] - 9s 29ms/step - loss: 0.5314 - accuracy: 0.7737 - val_loss: 0.5317 - val_accuracy: 0.7658\n",
      "Epoch 12/50\n",
      "313/313 [==============================] - 9s 27ms/step - loss: 0.5156 - accuracy: 0.7815 - val_loss: 0.5181 - val_accuracy: 0.7730\n",
      "Epoch 13/50\n",
      "313/313 [==============================] - 9s 28ms/step - loss: 0.5040 - accuracy: 0.7852 - val_loss: 0.5087 - val_accuracy: 0.7706\n",
      "Epoch 14/50\n",
      "313/313 [==============================] - 9s 28ms/step - loss: 0.4915 - accuracy: 0.7882 - val_loss: 0.4975 - val_accuracy: 0.7788\n",
      "Epoch 15/50\n",
      "313/313 [==============================] - 9s 28ms/step - loss: 0.4771 - accuracy: 0.8008 - val_loss: 0.4896 - val_accuracy: 0.7804\n",
      "Epoch 16/50\n",
      "313/313 [==============================] - 9s 28ms/step - loss: 0.4712 - accuracy: 0.7988 - val_loss: 0.4803 - val_accuracy: 0.7856\n",
      "Epoch 17/50\n",
      "313/313 [==============================] - 9s 28ms/step - loss: 0.4636 - accuracy: 0.7981 - val_loss: 0.4741 - val_accuracy: 0.7860\n",
      "Epoch 18/50\n",
      "313/313 [==============================] - 9s 28ms/step - loss: 0.4556 - accuracy: 0.8020 - val_loss: 0.4679 - val_accuracy: 0.7894\n",
      "Epoch 19/50\n",
      "313/313 [==============================] - 9s 28ms/step - loss: 0.4471 - accuracy: 0.8074 - val_loss: 0.4605 - val_accuracy: 0.7908\n",
      "Epoch 20/50\n",
      "313/313 [==============================] - 9s 28ms/step - loss: 0.4428 - accuracy: 0.8091 - val_loss: 0.4560 - val_accuracy: 0.7920\n",
      "Epoch 21/50\n",
      "313/313 [==============================] - 9s 28ms/step - loss: 0.4354 - accuracy: 0.8134 - val_loss: 0.4520 - val_accuracy: 0.7928\n",
      "Epoch 22/50\n",
      "313/313 [==============================] - 8s 27ms/step - loss: 0.4324 - accuracy: 0.8112 - val_loss: 0.4502 - val_accuracy: 0.7938\n",
      "Epoch 23/50\n",
      "313/313 [==============================] - 8s 27ms/step - loss: 0.4371 - accuracy: 0.8069 - val_loss: 0.4459 - val_accuracy: 0.7958\n",
      "Epoch 24/50\n",
      "313/313 [==============================] - 9s 27ms/step - loss: 0.4297 - accuracy: 0.8118 - val_loss: 0.4453 - val_accuracy: 0.7990\n",
      "Epoch 25/50\n",
      "313/313 [==============================] - 9s 27ms/step - loss: 0.4237 - accuracy: 0.8143 - val_loss: 0.4436 - val_accuracy: 0.7958\n",
      "Epoch 26/50\n",
      "313/313 [==============================] - 9s 28ms/step - loss: 0.4195 - accuracy: 0.8163 - val_loss: 0.4397 - val_accuracy: 0.7966\n",
      "Epoch 27/50\n",
      "313/313 [==============================] - 9s 28ms/step - loss: 0.4248 - accuracy: 0.8098 - val_loss: 0.4414 - val_accuracy: 0.8006\n",
      "Epoch 28/50\n",
      "313/313 [==============================] - 8s 27ms/step - loss: 0.4156 - accuracy: 0.8167 - val_loss: 0.4398 - val_accuracy: 0.7972\n",
      "Epoch 29/50\n",
      "313/313 [==============================] - 9s 27ms/step - loss: 0.4148 - accuracy: 0.8172 - val_loss: 0.4367 - val_accuracy: 0.7992\n",
      "Epoch 30/50\n",
      "313/313 [==============================] - 8s 27ms/step - loss: 0.4116 - accuracy: 0.8165 - val_loss: 0.4370 - val_accuracy: 0.7996\n",
      "Epoch 31/50\n",
      "313/313 [==============================] - 8s 27ms/step - loss: 0.4206 - accuracy: 0.8121 - val_loss: 0.4332 - val_accuracy: 0.8008\n",
      "Epoch 32/50\n",
      "313/313 [==============================] - 8s 27ms/step - loss: 0.4114 - accuracy: 0.8161 - val_loss: 0.4319 - val_accuracy: 0.8026\n",
      "Epoch 33/50\n",
      "313/313 [==============================] - 8s 27ms/step - loss: 0.4131 - accuracy: 0.8149 - val_loss: 0.4380 - val_accuracy: 0.8000\n",
      "Epoch 34/50\n",
      "313/313 [==============================] - 8s 27ms/step - loss: 0.4084 - accuracy: 0.8183 - val_loss: 0.4316 - val_accuracy: 0.8026\n",
      "Epoch 35/50\n",
      "313/313 [==============================] - 9s 27ms/step - loss: 0.4132 - accuracy: 0.8146 - val_loss: 0.4315 - val_accuracy: 0.8014\n",
      "Epoch 36/50\n",
      "313/313 [==============================] - 8s 27ms/step - loss: 0.4020 - accuracy: 0.8233 - val_loss: 0.4304 - val_accuracy: 0.8018\n",
      "Epoch 37/50\n",
      "313/313 [==============================] - 9s 28ms/step - loss: 0.4067 - accuracy: 0.8198 - val_loss: 0.4300 - val_accuracy: 0.8008\n",
      "Epoch 38/50\n",
      "313/313 [==============================] - 8s 27ms/step - loss: 0.4048 - accuracy: 0.8182 - val_loss: 0.4302 - val_accuracy: 0.7976\n",
      "Epoch 39/50\n",
      "313/313 [==============================] - 9s 29ms/step - loss: 0.3990 - accuracy: 0.8245 - val_loss: 0.4333 - val_accuracy: 0.7978\n",
      "Epoch 40/50\n",
      "313/313 [==============================] - 9s 30ms/step - loss: 0.4068 - accuracy: 0.8159 - val_loss: 0.4295 - val_accuracy: 0.8022\n",
      "Epoch 41/50\n",
      "313/313 [==============================] - 8s 27ms/step - loss: 0.3988 - accuracy: 0.8208 - val_loss: 0.4297 - val_accuracy: 0.7954\n",
      "Epoch 42/50\n",
      "313/313 [==============================] - 8s 27ms/step - loss: 0.4019 - accuracy: 0.8218 - val_loss: 0.4297 - val_accuracy: 0.7998\n",
      "Epoch 43/50\n",
      "313/313 [==============================] - 8s 27ms/step - loss: 0.4011 - accuracy: 0.8203 - val_loss: 0.4290 - val_accuracy: 0.7976\n",
      "Epoch 44/50\n",
      "313/313 [==============================] - 8s 27ms/step - loss: 0.3998 - accuracy: 0.8187 - val_loss: 0.4288 - val_accuracy: 0.8040\n",
      "Epoch 45/50\n",
      "313/313 [==============================] - 8s 27ms/step - loss: 0.3960 - accuracy: 0.8215 - val_loss: 0.4275 - val_accuracy: 0.7964\n",
      "Epoch 46/50\n",
      "313/313 [==============================] - 8s 27ms/step - loss: 0.3991 - accuracy: 0.8213 - val_loss: 0.4257 - val_accuracy: 0.8002\n",
      "Epoch 47/50\n",
      "313/313 [==============================] - 8s 27ms/step - loss: 0.3885 - accuracy: 0.8274 - val_loss: 0.4267 - val_accuracy: 0.8042\n",
      "Epoch 48/50\n",
      "313/313 [==============================] - 8s 27ms/step - loss: 0.4004 - accuracy: 0.8176 - val_loss: 0.4266 - val_accuracy: 0.8026\n",
      "Epoch 49/50\n",
      "313/313 [==============================] - 9s 27ms/step - loss: 0.4016 - accuracy: 0.8213 - val_loss: 0.4279 - val_accuracy: 0.8016\n"
     ]
    }
   ],
   "source": [
    "rmsprop = RMSprop(learning_rate=1e-4)\n",
    "\n",
    "model.compile(\n",
    "    optimizer=rmsprop,\n",
    "    loss='binary_crossentropy',\n",
    "    metrics=['accuracy']\n",
    ")\n",
    "\n",
    "checkpoint_cb = ModelCheckpoint('best-lstm-model.h5')\n",
    "earlystopping_cb = EarlyStopping(patience=3, restore_best_weights=True)\n",
    "\n",
    "history = model.fit(\n",
    "    train_seq,\n",
    "    train_target,\n",
    "    epochs=50,\n",
    "    batch_size=64,\n",
    "    validation_data=(val_seq, val_target),\n",
    "    callbacks=[checkpoint_cb, earlystopping_cb]\n",
    ")"
   ]
  },
  {
   "cell_type": "code",
   "execution_count": 13,
   "metadata": {},
   "outputs": [
    {
     "data": {
      "image/png": "[encoded data removed]",
      "text/plain": [
       "<Figure size 432x288 with 1 Axes>"
      ]
     },
     "metadata": {
      "needs_background": "light"
     },
     "output_type": "display_data"
    },
    {
     "data": {
      "text/plain": [
       "''"
      ]
     },
     "execution_count": 13,
     "metadata": {},
     "output_type": "execute_result"
    }
   ],
   "source": [
    "plt.plot(history.history['loss'])\n",
    "plt.plot(history.history['val_loss'])\n",
    "\n",
    "plt.xlabel('epoch')\n",
    "plt.ylabel('loss')\n",
    "plt.legend(['train', 'val'])\n",
    "\n",
    "plt.show()\n",
    ";"
   ]
  },
  {
   "cell_type": "code",
   "execution_count": 14,
   "metadata": {},
   "outputs": [
    {
     "name": "stdout",
     "output_type": "stream",
     "text": [
      "Model: \"sequential_1\"\n",
      "_________________________________________________________________\n",
      "Layer (type)                 Output Shape              Param #   \n",
      "=================================================================\n",
      "embedding_1 (Embedding)      (None, 100, 16)           8000      \n",
      "_________________________________________________________________\n",
      "lstm_1 (LSTM)                (None, 8)                 800       \n",
      "_________________________________________________________________\n",
      "dense_1 (Dense)              (None, 1)                 9         \n",
      "=================================================================\n",
      "Total params: 8,809\n",
      "Trainable params: 8,809\n",
      "Non-trainable params: 0\n",
      "_________________________________________________________________\n"
     ]
    }
   ],
   "source": [
    "model = Sequential()\n",
    "model.add(Embedding(500, 16, input_length=100))\n",
    "model.add(LSTM(8, dropout=0.3))\n",
    "model.add(Dense(1, activation='sigmoid'))\n",
    "\n",
    "model.summary()"
   ]
  },
  {
   "cell_type": "code",
   "execution_count": 15,
   "metadata": {},
   "outputs": [
    {
     "name": "stdout",
     "output_type": "stream",
     "text": [
      "Epoch 1/50\n",
      "313/313 [==============================] - 12s 30ms/step - loss: 0.6926 - accuracy: 0.5222 - val_loss: 0.6906 - val_accuracy: 0.5872\n",
      "Epoch 2/50\n",
      "313/313 [==============================] - 8s 27ms/step - loss: 0.6893 - accuracy: 0.6006 - val_loss: 0.6838 - val_accuracy: 0.6430\n",
      "Epoch 3/50\n",
      "313/313 [==============================] - 8s 26ms/step - loss: 0.6789 - accuracy: 0.6503 - val_loss: 0.6503 - val_accuracy: 0.7002\n",
      "Epoch 4/50\n",
      "313/313 [==============================] - 8s 26ms/step - loss: 0.6257 - accuracy: 0.7112 - val_loss: 0.5861 - val_accuracy: 0.7146\n",
      "Epoch 5/50\n",
      "313/313 [==============================] - 8s 27ms/step - loss: 0.5793 - accuracy: 0.7239 - val_loss: 0.5634 - val_accuracy: 0.7282\n",
      "Epoch 6/50\n",
      "313/313 [==============================] - 9s 27ms/step - loss: 0.5550 - accuracy: 0.7401 - val_loss: 0.5435 - val_accuracy: 0.7430\n",
      "Epoch 7/50\n",
      "313/313 [==============================] - 8s 27ms/step - loss: 0.5354 - accuracy: 0.7528 - val_loss: 0.5256 - val_accuracy: 0.7548\n",
      "Epoch 8/50\n",
      "313/313 [==============================] - 9s 28ms/step - loss: 0.5141 - accuracy: 0.7643 - val_loss: 0.5073 - val_accuracy: 0.7622\n",
      "Epoch 9/50\n",
      "313/313 [==============================] - 9s 28ms/step - loss: 0.4941 - accuracy: 0.7755 - val_loss: 0.4915 - val_accuracy: 0.7712ss: 0.4940 - accura\n",
      "Epoch 10/50\n",
      "313/313 [==============================] - 8s 27ms/step - loss: 0.4818 - accuracy: 0.7826 - val_loss: 0.4784 - val_accuracy: 0.7782\n",
      "Epoch 11/50\n",
      "313/313 [==============================] - 9s 28ms/step - loss: 0.4767 - accuracy: 0.7813 - val_loss: 0.4689 - val_accuracy: 0.7816\n",
      "Epoch 12/50\n",
      "313/313 [==============================] - 9s 28ms/step - loss: 0.4640 - accuracy: 0.7869 - val_loss: 0.4606 - val_accuracy: 0.7880\n",
      "Epoch 13/50\n",
      "313/313 [==============================] - 8s 27ms/step - loss: 0.4520 - accuracy: 0.7964 - val_loss: 0.4540 - val_accuracy: 0.7922\n",
      "Epoch 14/50\n",
      "313/313 [==============================] - 9s 27ms/step - loss: 0.4453 - accuracy: 0.8002 - val_loss: 0.4490 - val_accuracy: 0.7924\n",
      "Epoch 15/50\n",
      "313/313 [==============================] - 9s 28ms/step - loss: 0.4437 - accuracy: 0.7995 - val_loss: 0.4489 - val_accuracy: 0.7932\n",
      "Epoch 16/50\n",
      "313/313 [==============================] - 9s 27ms/step - loss: 0.4337 - accuracy: 0.8059 - val_loss: 0.4419 - val_accuracy: 0.7950\n",
      "Epoch 17/50\n",
      "313/313 [==============================] - 9s 28ms/step - loss: 0.4339 - accuracy: 0.8052 - val_loss: 0.4404 - val_accuracy: 0.7942\n",
      "Epoch 18/50\n",
      "313/313 [==============================] - 9s 27ms/step - loss: 0.4347 - accuracy: 0.8009 - val_loss: 0.4376 - val_accuracy: 0.7966\n",
      "Epoch 19/50\n",
      "313/313 [==============================] - 9s 28ms/step - loss: 0.4267 - accuracy: 0.8033 - val_loss: 0.4366 - val_accuracy: 0.7924\n",
      "Epoch 20/50\n",
      "313/313 [==============================] - 9s 28ms/step - loss: 0.4267 - accuracy: 0.8055 - val_loss: 0.4376 - val_accuracy: 0.7964\n",
      "Epoch 21/50\n",
      "313/313 [==============================] - 9s 27ms/step - loss: 0.4261 - accuracy: 0.8052 - val_loss: 0.4356 - val_accuracy: 0.7938\n",
      "Epoch 22/50\n",
      "313/313 [==============================] - 9s 28ms/step - loss: 0.4222 - accuracy: 0.8068 - val_loss: 0.4341 - val_accuracy: 0.7970\n",
      "Epoch 23/50\n",
      "313/313 [==============================] - 8s 27ms/step - loss: 0.4164 - accuracy: 0.8110 - val_loss: 0.4374 - val_accuracy: 0.7972\n",
      "Epoch 24/50\n",
      "313/313 [==============================] - 9s 28ms/step - loss: 0.4292 - accuracy: 0.8017 - val_loss: 0.4353 - val_accuracy: 0.7920\n",
      "Epoch 25/50\n",
      "313/313 [==============================] - 8s 27ms/step - loss: 0.4199 - accuracy: 0.8088 - val_loss: 0.4355 - val_accuracy: 0.7990\n"
     ]
    }
   ],
   "source": [
    "rmsprop = RMSprop(learning_rate=1e-4)\n",
    "\n",
    "model.compile(\n",
    "    optimizer=rmsprop,\n",
    "    loss='binary_crossentropy',\n",
    "    metrics=['accuracy']\n",
    ")\n",
    "\n",
    "checkpoint_cb = ModelCheckpoint('best-lstm-model.h5')\n",
    "earlystopping_cb = EarlyStopping(patience=3, restore_best_weights=True)\n",
    "\n",
    "history = model.fit(\n",
    "    train_seq,\n",
    "    train_target,\n",
    "    epochs=50,\n",
    "    batch_size=64,\n",
    "    validation_data=(val_seq, val_target),\n",
    "    callbacks=[checkpoint_cb, earlystopping_cb]\n",
    ")"
   ]
  },
  {
   "cell_type": "code",
   "execution_count": 16,
   "metadata": {},
   "outputs": [
    {
     "data": {
      "image/png": "[encoded data removed]",
      "text/plain": [
       "<Figure size 432x288 with 1 Axes>"
      ]
     },
     "metadata": {
      "needs_background": "light"
     },
     "output_type": "display_data"
    },
    {
     "data": {
      "text/plain": [
       "''"
      ]
     },
     "execution_count": 16,
     "metadata": {},
     "output_type": "execute_result"
    }
   ],
   "source": [
    "plt.plot(history.history['loss'])\n",
    "plt.plot(history.history['val_loss'])\n",
    "\n",
    "plt.xlabel('epoch')\n",
    "plt.ylabel('loss')\n",
    "plt.legend(['train', 'val'])\n",
    "\n",
    "plt.show()\n",
    ";"
   ]
  },
  {
   "cell_type": "code",
   "execution_count": 17,
   "metadata": {},
   "outputs": [
    {
     "name": "stdout",
     "output_type": "stream",
     "text": [
      "Model: \"sequential_2\"\n",
      "_________________________________________________________________\n",
      "Layer (type)                 Output Shape              Param #   \n",
      "=================================================================\n",
      "embedding_2 (Embedding)      (None, 100, 16)           8000      \n",
      "_________________________________________________________________\n",
      "lstm_2 (LSTM)                (None, 100, 8)            800       \n",
      "_________________________________________________________________\n",
      "lstm_3 (LSTM)                (None, 8)                 544       \n",
      "_________________________________________________________________\n",
      "dense_2 (Dense)              (None, 1)                 9         \n",
      "=================================================================\n",
      "Total params: 9,353\n",
      "Trainable params: 9,353\n",
      "Non-trainable params: 0\n",
      "_________________________________________________________________\n"
     ]
    }
   ],
   "source": [
    "model = Sequential()\n",
    "model.add(Embedding(500, 16, input_length=100))\n",
    "model.add(LSTM(8, dropout=0.3, return_sequences=True))\n",
    "model.add(LSTM(8, dropout=0.3))\n",
    "model.add(Dense(1, activation='sigmoid'))\n",
    "\n",
    "model.summary()"
   ]
  },
  {
   "cell_type": "code",
   "execution_count": 18,
   "metadata": {},
   "outputs": [
    {
     "name": "stdout",
     "output_type": "stream",
     "text": [
      "Epoch 1/50\n",
      "313/313 [==============================] - 22s 55ms/step - loss: 0.6928 - accuracy: 0.5215 - val_loss: 0.6912 - val_accuracy: 0.6010\n",
      "Epoch 2/50\n",
      "313/313 [==============================] - 16s 53ms/step - loss: 0.6892 - accuracy: 0.6061 - val_loss: 0.6764 - val_accuracy: 0.6468\n",
      "Epoch 3/50\n",
      "313/313 [==============================] - 17s 53ms/step - loss: 0.6623 - accuracy: 0.6732 - val_loss: 0.6088 - val_accuracy: 0.7182\n",
      "Epoch 4/50\n",
      "313/313 [==============================] - 17s 54ms/step - loss: 0.5926 - accuracy: 0.7182 - val_loss: 0.5573 - val_accuracy: 0.7374\n",
      "Epoch 5/50\n",
      "313/313 [==============================] - 17s 54ms/step - loss: 0.5527 - accuracy: 0.7375 - val_loss: 0.5330 - val_accuracy: 0.7504\n",
      "Epoch 6/50\n",
      "313/313 [==============================] - 17s 54ms/step - loss: 0.5253 - accuracy: 0.7606 - val_loss: 0.5131 - val_accuracy: 0.7566\n",
      "Epoch 7/50\n",
      "313/313 [==============================] - 17s 55ms/step - loss: 0.5094 - accuracy: 0.7639 - val_loss: 0.4994 - val_accuracy: 0.7648\n",
      "Epoch 8/50\n",
      "313/313 [==============================] - 17s 53ms/step - loss: 0.4964 - accuracy: 0.7708 - val_loss: 0.4904 - val_accuracy: 0.7728\n",
      "Epoch 9/50\n",
      "313/313 [==============================] - 17s 54ms/step - loss: 0.4851 - accuracy: 0.7774 - val_loss: 0.4783 - val_accuracy: 0.7762\n",
      "Epoch 10/50\n",
      "313/313 [==============================] - 17s 54ms/step - loss: 0.4784 - accuracy: 0.7811 - val_loss: 0.4709 - val_accuracy: 0.7826\n",
      "Epoch 11/50\n",
      "313/313 [==============================] - 17s 54ms/step - loss: 0.4741 - accuracy: 0.7827 - val_loss: 0.4664 - val_accuracy: 0.7832\n",
      "Epoch 12/50\n",
      "313/313 [==============================] - 17s 54ms/step - loss: 0.4587 - accuracy: 0.7914 - val_loss: 0.4626 - val_accuracy: 0.7830\n",
      "Epoch 13/50\n",
      "313/313 [==============================] - 17s 54ms/step - loss: 0.4559 - accuracy: 0.7915 - val_loss: 0.4591 - val_accuracy: 0.7858\n",
      "Epoch 14/50\n",
      "313/313 [==============================] - 16s 53ms/step - loss: 0.4590 - accuracy: 0.7921 - val_loss: 0.4545 - val_accuracy: 0.7884\n",
      "Epoch 15/50\n",
      "313/313 [==============================] - 17s 55ms/step - loss: 0.4501 - accuracy: 0.7916 - val_loss: 0.4558 - val_accuracy: 0.7866\n",
      "Epoch 16/50\n",
      "313/313 [==============================] - 17s 55ms/step - loss: 0.4427 - accuracy: 0.7982 - val_loss: 0.4514 - val_accuracy: 0.7908\n",
      "Epoch 17/50\n",
      "313/313 [==============================] - 17s 54ms/step - loss: 0.4488 - accuracy: 0.7960 - val_loss: 0.4504 - val_accuracy: 0.7920\n",
      "Epoch 18/50\n",
      "313/313 [==============================] - 17s 54ms/step - loss: 0.4473 - accuracy: 0.7956 - val_loss: 0.4479 - val_accuracy: 0.7960\n",
      "Epoch 19/50\n",
      "313/313 [==============================] - 17s 54ms/step - loss: 0.4453 - accuracy: 0.7955 - val_loss: 0.4482 - val_accuracy: 0.7936\n",
      "Epoch 20/50\n",
      "313/313 [==============================] - 17s 55ms/step - loss: 0.4431 - accuracy: 0.7996 - val_loss: 0.4497 - val_accuracy: 0.7918\n",
      "Epoch 21/50\n",
      "313/313 [==============================] - 17s 55ms/step - loss: 0.4373 - accuracy: 0.7995 - val_loss: 0.4445 - val_accuracy: 0.7968\n",
      "Epoch 22/50\n",
      "313/313 [==============================] - 17s 55ms/step - loss: 0.4414 - accuracy: 0.7994 - val_loss: 0.4450 - val_accuracy: 0.7962\n",
      "Epoch 23/50\n",
      "313/313 [==============================] - 17s 54ms/step - loss: 0.4338 - accuracy: 0.8026 - val_loss: 0.4473 - val_accuracy: 0.7948\n",
      "Epoch 24/50\n",
      "313/313 [==============================] - 17s 54ms/step - loss: 0.4408 - accuracy: 0.7986 - val_loss: 0.4425 - val_accuracy: 0.7972\n",
      "Epoch 25/50\n",
      "313/313 [==============================] - 18s 57ms/step - loss: 0.4358 - accuracy: 0.8031 - val_loss: 0.4417 - val_accuracy: 0.7980\n",
      "Epoch 26/50\n",
      "313/313 [==============================] - 18s 57ms/step - loss: 0.4356 - accuracy: 0.8011 - val_loss: 0.4408 - val_accuracy: 0.7994\n",
      "Epoch 27/50\n",
      "313/313 [==============================] - 17s 54ms/step - loss: 0.4311 - accuracy: 0.8045 - val_loss: 0.4414 - val_accuracy: 0.7972\n",
      "Epoch 28/50\n",
      "313/313 [==============================] - 17s 55ms/step - loss: 0.4373 - accuracy: 0.7969 - val_loss: 0.4419 - val_accuracy: 0.7978\n",
      "Epoch 29/50\n",
      "313/313 [==============================] - 17s 55ms/step - loss: 0.4311 - accuracy: 0.8059 - val_loss: 0.4432 - val_accuracy: 0.7964\n"
     ]
    }
   ],
   "source": [
    "rmsprop = RMSprop(learning_rate=1e-4)\n",
    "\n",
    "model.compile(\n",
    "    optimizer=rmsprop,\n",
    "    loss='binary_crossentropy',\n",
    "    metrics=['accuracy']\n",
    ")\n",
    "\n",
    "checkpoint_cb = ModelCheckpoint('best-lstm-model.h5')\n",
    "earlystopping_cb = EarlyStopping(patience=3, restore_best_weights=True)\n",
    "\n",
    "history = model.fit(\n",
    "    train_seq,\n",
    "    train_target,\n",
    "    epochs=50,\n",
    "    batch_size=64,\n",
    "    validation_data=(val_seq, val_target),\n",
    "    callbacks=[checkpoint_cb, earlystopping_cb]\n",
    ")"
   ]
  },
  {
   "cell_type": "code",
   "execution_count": 19,
   "metadata": {},
   "outputs": [
    {
     "data": {
      "image/png": "[encoded data removed]",
      "text/plain": [
       "<Figure size 432x288 with 1 Axes>"
      ]
     },
     "metadata": {
      "needs_background": "light"
     },
     "output_type": "display_data"
    },
    {
     "data": {
      "text/plain": [
       "''"
      ]
     },
     "execution_count": 19,
     "metadata": {},
     "output_type": "execute_result"
    }
   ],
   "source": [
    "plt.plot(history.history['loss'])\n",
    "plt.plot(history.history['val_loss'])\n",
    "\n",
    "plt.xlabel('epoch')\n",
    "plt.ylabel('loss')\n",
    "plt.legend(['train', 'val'])\n",
    "\n",
    "plt.show()\n",
    ";"
   ]
  },
  {
   "cell_type": "code",
   "execution_count": 22,
   "metadata": {},
   "outputs": [
    {
     "name": "stdout",
     "output_type": "stream",
     "text": [
      "Model: \"sequential_4\"\n",
      "_________________________________________________________________\n",
      "Layer (type)                 Output Shape              Param #   \n",
      "=================================================================\n",
      "embedding_4 (Embedding)      (None, 100, 16)           8000      \n",
      "_________________________________________________________________\n",
      "gru (GRU)                    (None, 8)                 624       \n",
      "_________________________________________________________________\n",
      "dense_3 (Dense)              (None, 1)                 9         \n",
      "=================================================================\n",
      "Total params: 8,633\n",
      "Trainable params: 8,633\n",
      "Non-trainable params: 0\n",
      "_________________________________________________________________\n"
     ]
    }
   ],
   "source": [
    "model = Sequential()\n",
    "model.add(Embedding(500, 16, input_length=100))\n",
    "model.add(GRU(8))\n",
    "model.add(Dense(1, activation='sigmoid'))\n",
    "\n",
    "model.summary()"
   ]
  },
  {
   "cell_type": "code",
   "execution_count": 23,
   "metadata": {},
   "outputs": [
    {
     "name": "stdout",
     "output_type": "stream",
     "text": [
      "Epoch 1/50\n",
      "313/313 [==============================] - 13s 34ms/step - loss: 0.6930 - accuracy: 0.5098 - val_loss: 0.6921 - val_accuracy: 0.5488\n",
      "Epoch 2/50\n",
      "313/313 [==============================] - 10s 32ms/step - loss: 0.6916 - accuracy: 0.5665 - val_loss: 0.6904 - val_accuracy: 0.5660\n",
      "Epoch 3/50\n",
      "313/313 [==============================] - 10s 32ms/step - loss: 0.6893 - accuracy: 0.5880 - val_loss: 0.6877 - val_accuracy: 0.5762\n",
      "Epoch 4/50\n",
      "313/313 [==============================] - 10s 32ms/step - loss: 0.6859 - accuracy: 0.6014 - val_loss: 0.6832 - val_accuracy: 0.5934\n",
      "Epoch 5/50\n",
      "313/313 [==============================] - 10s 32ms/step - loss: 0.6800 - accuracy: 0.6124 - val_loss: 0.6760 - val_accuracy: 0.6060\n",
      "Epoch 6/50\n",
      "313/313 [==============================] - 10s 32ms/step - loss: 0.6708 - accuracy: 0.6274 - val_loss: 0.6642 - val_accuracy: 0.6238\n",
      "Epoch 7/50\n",
      "313/313 [==============================] - 11s 35ms/step - loss: 0.6562 - accuracy: 0.6454 - val_loss: 0.6450 - val_accuracy: 0.6458\n",
      "Epoch 8/50\n",
      "313/313 [==============================] - 11s 34ms/step - loss: 0.6335 - accuracy: 0.6617 - val_loss: 0.6126 - val_accuracy: 0.6702\n",
      "Epoch 9/50\n",
      "313/313 [==============================] - 10s 31ms/step - loss: 0.5899 - accuracy: 0.6990 - val_loss: 0.5509 - val_accuracy: 0.7218\n",
      "Epoch 10/50\n",
      "313/313 [==============================] - 10s 31ms/step - loss: 0.5309 - accuracy: 0.7368 - val_loss: 0.5093 - val_accuracy: 0.7542\n",
      "Epoch 11/50\n",
      "313/313 [==============================] - 10s 32ms/step - loss: 0.4919 - accuracy: 0.7669 - val_loss: 0.4937 - val_accuracy: 0.7608\n",
      "Epoch 12/50\n",
      "313/313 [==============================] - 10s 32ms/step - loss: 0.4838 - accuracy: 0.7725 - val_loss: 0.4893 - val_accuracy: 0.7674\n",
      "Epoch 13/50\n",
      "313/313 [==============================] - 10s 32ms/step - loss: 0.4680 - accuracy: 0.7829 - val_loss: 0.4766 - val_accuracy: 0.7750\n",
      "Epoch 14/50\n",
      "313/313 [==============================] - 10s 32ms/step - loss: 0.4642 - accuracy: 0.7863 - val_loss: 0.4699 - val_accuracy: 0.7804\n",
      "Epoch 15/50\n",
      "313/313 [==============================] - 10s 32ms/step - loss: 0.4516 - accuracy: 0.7949 - val_loss: 0.4670 - val_accuracy: 0.7784\n",
      "Epoch 16/50\n",
      "313/313 [==============================] - 10s 31ms/step - loss: 0.4470 - accuracy: 0.7965 - val_loss: 0.4622 - val_accuracy: 0.7814\n",
      "Epoch 17/50\n",
      "313/313 [==============================] - 10s 32ms/step - loss: 0.4425 - accuracy: 0.7998 - val_loss: 0.4599 - val_accuracy: 0.7850\n",
      "Epoch 18/50\n",
      "313/313 [==============================] - 10s 32ms/step - loss: 0.4408 - accuracy: 0.7996 - val_loss: 0.4552 - val_accuracy: 0.7848\n",
      "Epoch 19/50\n",
      "313/313 [==============================] - 10s 32ms/step - loss: 0.4369 - accuracy: 0.8019 - val_loss: 0.4535 - val_accuracy: 0.7864\n",
      "Epoch 20/50\n",
      "313/313 [==============================] - 10s 32ms/step - loss: 0.4338 - accuracy: 0.8064 - val_loss: 0.4510 - val_accuracy: 0.7886\n",
      "Epoch 21/50\n",
      "313/313 [==============================] - 10s 32ms/step - loss: 0.4337 - accuracy: 0.8041 - val_loss: 0.4485 - val_accuracy: 0.7914\n",
      "Epoch 22/50\n",
      "313/313 [==============================] - 10s 31ms/step - loss: 0.4293 - accuracy: 0.8107 - val_loss: 0.4487 - val_accuracy: 0.7898\n",
      "Epoch 23/50\n",
      "313/313 [==============================] - 10s 32ms/step - loss: 0.4249 - accuracy: 0.8123 - val_loss: 0.4462 - val_accuracy: 0.7940\n",
      "Epoch 24/50\n",
      "313/313 [==============================] - 10s 32ms/step - loss: 0.4298 - accuracy: 0.8060 - val_loss: 0.4447 - val_accuracy: 0.7918\n",
      "Epoch 25/50\n",
      "313/313 [==============================] - 10s 31ms/step - loss: 0.4174 - accuracy: 0.8166 - val_loss: 0.4438 - val_accuracy: 0.7938\n",
      "Epoch 26/50\n",
      "313/313 [==============================] - 10s 31ms/step - loss: 0.4250 - accuracy: 0.8108 - val_loss: 0.4484 - val_accuracy: 0.7972\n",
      "Epoch 27/50\n",
      "313/313 [==============================] - 10s 31ms/step - loss: 0.4195 - accuracy: 0.8112 - val_loss: 0.4420 - val_accuracy: 0.7946\n",
      "Epoch 28/50\n",
      "313/313 [==============================] - 10s 31ms/step - loss: 0.4207 - accuracy: 0.8108 - val_loss: 0.4431 - val_accuracy: 0.7938\n",
      "Epoch 29/50\n",
      "313/313 [==============================] - 10s 31ms/step - loss: 0.4149 - accuracy: 0.8153 - val_loss: 0.4409 - val_accuracy: 0.7960\n",
      "Epoch 30/50\n",
      "313/313 [==============================] - 10s 32ms/step - loss: 0.4206 - accuracy: 0.8117 - val_loss: 0.4413 - val_accuracy: 0.7948\n",
      "Epoch 31/50\n",
      "313/313 [==============================] - 10s 31ms/step - loss: 0.4189 - accuracy: 0.8141 - val_loss: 0.4431 - val_accuracy: 0.7950\n",
      "Epoch 32/50\n",
      "313/313 [==============================] - 10s 31ms/step - loss: 0.4230 - accuracy: 0.8107 - val_loss: 0.4424 - val_accuracy: 0.7920\n"
     ]
    }
   ],
   "source": [
    "rmsprop = RMSprop(learning_rate=1e-4)\n",
    "\n",
    "model.compile(\n",
    "    optimizer=rmsprop,\n",
    "    loss='binary_crossentropy',\n",
    "    metrics=['accuracy']\n",
    ")\n",
    "\n",
    "checkpoint_cb = ModelCheckpoint('best-lstm-model.h5')\n",
    "earlystopping_cb = EarlyStopping(patience=3, restore_best_weights=True)\n",
    "\n",
    "history = model.fit(\n",
    "    train_seq,\n",
    "    train_target,\n",
    "    epochs=50,\n",
    "    batch_size=64,\n",
    "    validation_data=(val_seq, val_target),\n",
    "    callbacks=[checkpoint_cb, earlystopping_cb]\n",
    ")"
   ]
  },
  {
   "cell_type": "code",
   "execution_count": 24,
   "metadata": {},
   "outputs": [
    {
     "data": {
      "image/png": "[encoded data removed]",
      "text/plain": [
       "<Figure size 432x288 with 1 Axes>"
      ]
     },
     "metadata": {
      "needs_background": "light"
     },
     "output_type": "display_data"
    },
    {
     "data": {
      "text/plain": [
       "''"
      ]
     },
     "execution_count": 24,
     "metadata": {},
     "output_type": "execute_result"
    }
   ],
   "source": [
    "plt.plot(history.history['loss'])\n",
    "plt.plot(history.history['val_loss'])\n",
    "\n",
    "plt.xlabel('epoch')\n",
    "plt.ylabel('loss')\n",
    "plt.legend(['train', 'val'])\n",
    "\n",
    "plt.show()\n",
    ";"
   ]
  },
  {
   "cell_type": "code",
   "execution_count": 26,
   "metadata": {},
   "outputs": [
    {
     "name": "stdout",
     "output_type": "stream",
     "text": [
      "782/782 [==============================] - 4s 5ms/step - loss: 0.4390 - accuracy: 0.7971\n"
     ]
    },
    {
     "data": {
      "text/plain": [
       "[0.4390192925930023, 0.7971199750900269]"
      ]
     },
     "execution_count": 26,
     "metadata": {},
     "output_type": "execute_result"
    }
   ],
   "source": [
    "test_seq = pad_sequences(test_input, maxlen=100)\n",
    "\n",
    "model_best = load_model('best-lstm-model.h5')\n",
    "model_best.evaluate(test_seq, test_target)"
   ]
  }
 ],
 "metadata": {
  "kernelspec": {
   "display_name": "Python 3",
   "language": "python",
   "name": "python3"
  },
  "language_info": {
   "codemirror_mode": {
    "name": "ipython",
    "version": 3
   },
   "file_extension": ".py",
   "mimetype": "text/x-python",
   "name": "python",
   "nbconvert_exporter": "python",
   "pygments_lexer": "ipython3",
   "version": "3.8.5"
  }
 },
 "nbformat": 4,
 "nbformat_minor": 4
}
